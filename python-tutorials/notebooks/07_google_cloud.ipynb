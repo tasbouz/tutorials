{
 "cells": [
  {
   "cell_type": "markdown",
   "metadata": {},
   "source": [
    "# Python Tutorial - Google Cloud"
   ]
  },
  {
   "cell_type": "markdown",
   "metadata": {},
   "source": [
    "## 1. Vision API"
   ]
  },
  {
   "cell_type": "code",
   "execution_count": null,
   "metadata": {
    "collapsed": true,
    "jupyter": {
     "outputs_hidden": true
    }
   },
   "outputs": [],
   "source": [
    "import io\n",
    "\n",
    "# Imports the Google Cloud client library for vision\n",
    "from google.cloud import vision\n",
    "\n",
    "# Instantiates a client\n",
    "vision_client = vision.Client()\n",
    "\n",
    "# The name of the image file to annotate\n",
    "file_path = '../img/cat.jpg'\n",
    "\n",
    "# Loads the image into memory\n",
    "with io.open(file_path, 'rb') as image_file:\n",
    "    content = image_file.read()\n",
    "    image = vision_client.image(content=content)\n",
    "\n",
    "# Performs label detection on the image file\n",
    "labels = image.detect_labels()\n",
    "\n",
    "# print labels\n",
    "for label in labels:\n",
    "    print(label.description, label.locations)"
   ]
  },
  {
   "cell_type": "markdown",
   "metadata": {},
   "source": [
    "## 2. Naturan Language API\n",
    "\n",
    "Sentiment analysis inspects the given text and identifies the prevailing emotional opinion within the text, especially to determine a writer's attitude as positive, negative, or neutral. \n",
    "\n",
    "Entity analysis inspects the given text for known entities (Proper nouns such as public figures, landmarks, and so on. Common nouns such as restaurant, stadium, and so on.) and returns information about those entities.\n",
    "\n"
   ]
  },
  {
   "cell_type": "code",
   "execution_count": null,
   "metadata": {
    "collapsed": true,
    "jupyter": {
     "outputs_hidden": true
    }
   },
   "outputs": [],
   "source": [
    "import io\n",
    "\n",
    "# Imports the Google Cloud client library for language\n",
    "from google.cloud import language\n",
    "\n",
    "# Instantiates a client\n",
    "language_client = language.Client()\n",
    "\n",
    "# Create an object of language_client by reading a text file\n",
    "document = language_client.document_from_text('text file')\n",
    "\n",
    "# Create an object for sentiment analysis            \n",
    "sentiment_analysis = document.analyze_sentiment()\n",
    "sentiment = sentiment_analysis.sentiment\n",
    "\n",
    "# Create an object for entities analysis     \n",
    "entities_analysis = document.analyze_entities()     \n",
    "entities = entities_analysis.entities"
   ]
  },
  {
   "cell_type": "markdown",
   "metadata": {},
   "source": [
    "## 3. Translation API"
   ]
  },
  {
   "cell_type": "code",
   "execution_count": null,
   "metadata": {
    "collapsed": true,
    "jupyter": {
     "outputs_hidden": true
    }
   },
   "outputs": [],
   "source": [
    "import io\n",
    "\n",
    "# Imports the Google Cloud client library for language\n",
    "from google.cloud import translate\n",
    "\n",
    "# Instantiates a client\n",
    "translate_client = translate.Client()\n",
    "\n",
    "# Load the data and the target\n",
    "result = translate_client.translate(text, target_language = target)\n",
    "\n",
    "# The original text\n",
    "result['input']\n",
    "\n",
    "# The language of the original text\n",
    "result['detectedSourceLanguage']\n",
    "\n",
    "# The translated text\n",
    "result['translatedText']"
   ]
  }
 ],
 "metadata": {
  "kernelspec": {
   "display_name": "Python 3",
   "language": "python",
   "name": "python3"
  },
  "language_info": {
   "codemirror_mode": {
    "name": "ipython",
    "version": 3
   },
   "file_extension": ".py",
   "mimetype": "text/x-python",
   "name": "python",
   "nbconvert_exporter": "python",
   "pygments_lexer": "ipython3",
   "version": "3.7.3"
  }
 },
 "nbformat": 4,
 "nbformat_minor": 4
}
