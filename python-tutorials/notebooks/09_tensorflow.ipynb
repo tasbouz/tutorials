{
 "cells": [
  {
   "cell_type": "code",
   "execution_count": 1,
   "metadata": {},
   "outputs": [],
   "source": [
    "# Import tensorflow package\n",
    "import tensorflow as tf"
   ]
  },
  {
   "cell_type": "markdown",
   "metadata": {},
   "source": [
    "# Python Tutorial - TensorFlow"
   ]
  },
  {
   "cell_type": "markdown",
   "metadata": {},
   "source": [
    "TensorFlow works with graphs and sessions. First we build our model (i.e the graph). Nothing is being calculated at that point. Then after our model is ready (i.e the graph) we run the session in order to actually run the model!\n",
    "\n",
    "\n",
    "![title](../img/tensorflow_graphs.png)\n",
    "\n",
    "\n",
    "Now, we will introduce some of the basic objects and operations, and also the concept of a session and a graph!"
   ]
  },
  {
   "cell_type": "markdown",
   "metadata": {},
   "source": [
    "## 1. Constants (& Sessions)\n",
    "\n",
    "\n",
    "First we introduce the constant. After we define it, we cannot change the value!"
   ]
  },
  {
   "cell_type": "code",
   "execution_count": 2,
   "metadata": {},
   "outputs": [],
   "source": [
    "# A constant\n",
    "a = tf.constant([[3, 6],],                   # The value of the constant (here a 1x2 row vector)\n",
    "                name='a',                    # The name of the constant so it can be used to the graph\n",
    "                shape = (1,2),               # The shape of the constant (if it's scalar, vector, matrix)\n",
    "                verify_shape=True)           # If True and value is not of the right shape, it throws an error. \n",
    "                                             # If False and value is not of the right shape, broadcastes to bring it to bring it to the right form.\n",
    "# Another constant\n",
    "b = tf.constant([[2, 2],],\n",
    "                name='b', \n",
    "                shape = (1,2), \n",
    "                verify_shape=True)\n",
    "\n",
    "# Addition of two constants.\n",
    "addition = tf.add(a,b, name='addition')                                             # Element wise addition >> [5 8]\n",
    "\n",
    "# Elemtn wise multiplication of two constants. \n",
    "multiplication = tf.multiply(a,b, name='multiplication')                            # Element wise multiplication >> [6 12]\n",
    "\n",
    "# Matrix Multiplication of two constants.\n",
    "matrix_multiplication = tf.matmul(tf.reshape(a, [1, 2]), tf.reshape(b, [2, 1]))     # Matrix multiplication >> [[18]]\n",
    "\n",
    "# Division \n",
    "division = tf.div(a, b)                                                             # Element wise division >> [1 3]\n",
    "\n",
    "# Modulo\n",
    "modulo = tf.mod(a, b)                                                               # Element wise modulo >> [1 0]\n",
    "\n",
    "# Power x^y\n",
    "power = tf.pow(a,b, name='power')                                                   # Element wise power >> [9 36]\n",
    " \n",
    "# We can create more complex objects with results of previous operations.\n",
    "operation1 = tf.pow(addition,multiplication, name='operation1')\n"
   ]
  },
  {
   "cell_type": "markdown",
   "metadata": {},
   "source": [
    "A Session object encapsulates the environment in which Operation objects are\n",
    "executed, and Tensor objects are evaluated."
   ]
  },
  {
   "cell_type": "code",
   "execution_count": 3,
   "metadata": {},
   "outputs": [
    {
     "name": "stdout",
     "output_type": "stream",
     "text": [
      "[[5 8]] [[ 6 12]] [[18]] [[1 3]] [[1 0]] [[ 9 36]] [[15625     0]]\n"
     ]
    }
   ],
   "source": [
    "# We create a session and we run all the operations we created! Now, we actually have the results!\n",
    "with tf.Session() as sess:\n",
    "    add, mul, matmul, div, mod, pw, op1 = sess.run(fetches = [addition, multiplication, matrix_multiplication, division, modulo, power, operation1])\n",
    "    print(add, mul, matmul, div, mod, pw, op1)"
   ]
  },
  {
   "cell_type": "markdown",
   "metadata": {},
   "source": [
    "A session can also calculate specific nodes. It will automatically take into account only the nodes that are needed in order to calculate the node and it will neglect all the useless ones."
   ]
  },
  {
   "cell_type": "markdown",
   "metadata": {},
   "source": [
    "Some more useful for NN's constants!"
   ]
  },
  {
   "cell_type": "code",
   "execution_count": 88,
   "metadata": {
    "collapsed": true,
    "jupyter": {
     "outputs_hidden": true
    }
   },
   "outputs": [],
   "source": [
    "# A tensor of given dimensions full with 0's and 1's!\n",
    "zeros = tf.zeros((2, 3))       # A 2x3 matrix full of zeros\n",
    "ones = tf.ones((3,2))          # A 3x2 matrix full of ones\n",
    "\n",
    "# In general form (works with any number)\n",
    "zeros = tf.fill(dims = (2, 3), value = 0)\n",
    "ones = tf.fill(dims = (3, 2), value = 1)\n",
    "\n",
    "# Given a tensor x, we can create a tensor of same dimensions full of 0's or 1's\n",
    "zeros = tf.zeros_like(x)\n",
    "ones = tf.ones_like(x)\n",
    "\n",
    "# Range, LIMiT IS NOT INCLUDED (same as python and numpy)\n",
    "ran = tf.range(start = 3, limit=18, delta=3)\n",
    "\n",
    "# Sequence of numbers (same as python and numpy)\n",
    "linspace = tf.linspace(start = 10.0, stop = 13.0, num = 4)\n",
    "\n",
    "# Randomly Generated Constants (Many more, here only 3 examples)\n",
    "normal = tf.random_normal(shape, mean=0.0, stddev=1.0)                # Normal Distribution\n",
    "unifrom = tf.random_uniform(shape, minval=0, maxval=None)             # Unifrom Distribution\n",
    "shuffle = tf.random_shuffle(value, seed=None, name=None)              # Shuffling the values of a tensor (only Batch dimension)"
   ]
  },
  {
   "cell_type": "markdown",
   "metadata": {},
   "source": [
    "## 2. Variables (& Sessions)\n",
    "\n",
    "Now, we introduce the variable. After we define it we can change the value in the future. Same operations as in constants, but Variable is now a Class, and there are a lot of methods we can apply onto it!\n",
    "\n",
    "**REMEMBER** that we alwasy need to initialize variables before run the session."
   ]
  },
  {
   "cell_type": "code",
   "execution_count": 65,
   "metadata": {
    "collapsed": true,
    "jupyter": {
     "outputs_hidden": true
    }
   },
   "outputs": [],
   "source": [
    "# A Sclarar Variable\n",
    "a = tf.Variable(2, name=\"scalar\")\n",
    "\n",
    "# A Vector Variable\n",
    "b = tf.Variable([2, 3], name=\"vector\")\n",
    "\n",
    "# A Matrix Variable\n",
    "c = tf.Variable([[0, 1], [2, 3]], name=\"matrix\")\n",
    "\n",
    "# Assign Operation\n",
    "assign_op = a.assign(2*a + 10)    # We create an opereation, in which we assign a new value to a.\n",
    "                                  # BE CAREFUL: WE NEED TO RUN IT IN ORDER TO HAPPEN. OTHERWISE IT WILL BE ONLY DEFINED!\n"
   ]
  },
  {
   "cell_type": "markdown",
   "metadata": {},
   "source": [
    "Now, we initialize the variables, and then we execute a session!"
   ]
  },
  {
   "cell_type": "code",
   "execution_count": 66,
   "metadata": {},
   "outputs": [
    {
     "name": "stdout",
     "output_type": "stream",
     "text": [
      "2\n",
      "14\n",
      "2 [2 3] [[0 1]\n",
      " [2 3]]\n"
     ]
    }
   ],
   "source": [
    "# Let's initialize a and run the session\n",
    "with tf.Session() as sess:    \n",
    "    sess.run(a.initializer)                 # We initialize the variable! The assign operation has not run yet!\n",
    "    print(a.eval())                         # eval() is a method applied on Variables, which shows the actual tensor!\n",
    "    \n",
    "    sess.run(assign_op)                     # Now we run the assign operation! The values of a changes according to assign operation\n",
    "    print(a.eval())\n",
    "    \n",
    "    \n",
    "# The easiest way is initializing all variables at once:\n",
    "init = tf.global_variables_initializer()    # Initialize all variables\n",
    "with tf.Session() as sess:\n",
    "    sess.run(init)\n",
    "    print(a.eval(), b.eval(), c.eval())     # Here we have not run the assign_op. So here a is still the initial one!"
   ]
  },
  {
   "cell_type": "markdown",
   "metadata": {},
   "source": [
    "## 3. Placeholders (& Sessions)\n",
    "\n",
    "Now, we introduce the placeholder. Placeholders are like empty variables, that we can fill in later. We can have them empty, and we can fill them in during execution. It's like defining a function $f(x, y)$, without knowing value of x or y. x, y are placeholders for the actual values."
   ]
  },
  {
   "cell_type": "code",
   "execution_count": 102,
   "metadata": {
    "collapsed": true,
    "jupyter": {
     "outputs_hidden": true
    }
   },
   "outputs": [],
   "source": [
    "# A placeholder of type float 32-bit, shape is a vector of 3 elements\n",
    "a = tf.placeholder(tf.float32, shape=[3], name='a')\n",
    "\n",
    "# Another placeholder\n",
    "b = tf.placeholder(tf.float32, shape=[2,1], name ='b')"
   ]
  },
  {
   "cell_type": "markdown",
   "metadata": {},
   "source": [
    "If we want to run a session, we have to assign values to the placeholders. Otherwise we will get an error. The way to assign values is through a dictionary like it follows:"
   ]
  },
  {
   "cell_type": "code",
   "execution_count": 105,
   "metadata": {
    "scrolled": true
   },
   "outputs": [
    {
     "name": "stdout",
     "output_type": "stream",
     "text": [
      "[array([ 1.,  2.,  3.], dtype=float32), array([[ 1.],\n",
      "       [ 2.]], dtype=float32)]\n",
      "[ 0.  0.  0.]\n",
      "[ 1.  1.  1.]\n",
      "[ 2.  2.  2.]\n",
      "[ 3.  3.  3.]\n",
      "[ 4.  4.  4.]\n"
     ]
    }
   ],
   "source": [
    "with tf.Session() as sess:\n",
    "    \n",
    "    feed_dict = {a:[1,2,3], b:[[1],[2]]}             # Define the values\n",
    "    print(sess.run([a,b], feed_dict=feed_dict))      # Run the session with these values  \n",
    "    \n",
    "    for i in list(range(5)):                         # Or for multiple evaluations (e.g for differenct epochs)\n",
    "        print(sess.run(a, feed_dict={a:[i,i,i]})) "
   ]
  },
  {
   "cell_type": "markdown",
   "metadata": {},
   "source": [
    "## 4. Graphs\n",
    "\n",
    "Graphs help to visualize the network we built. After we create a graph we can lunch the serven using:\n",
    "<br><br>\n",
    "$$\\text{tensorboard --logdir=\"./graphs\" --port 6006}$$ \n",
    "<br>\n",
    "The graphs can be found on http://localhost:6006/"
   ]
  },
  {
   "cell_type": "code",
   "execution_count": 55,
   "metadata": {
    "collapsed": true,
    "jupyter": {
     "outputs_hidden": true
    }
   },
   "outputs": [],
   "source": [
    "# Clean the graph from everything (otherwise it keeps the old nodes)\n",
    "tf.reset_default_graph()\n",
    "\n",
    "# Create a computational graph\n",
    "x = tf.constant(1, name='x')  \n",
    "y = tf.constant(3, name='y')\n",
    "addition = tf.add(x,y, name='addition')\n",
    "\n",
    "# Create a visual graph\n",
    "writer = tf.summary.FileWriter('./graphs', sess.graph)\n",
    "\n",
    "# Run the session (now a graph will also be created)\n",
    "with tf.Session() as sess:\n",
    "    sess.run(addition)\n"
   ]
  }
 ],
 "metadata": {
  "kernelspec": {
   "display_name": "Python 3",
   "language": "python",
   "name": "python3"
  },
  "language_info": {
   "codemirror_mode": {
    "name": "ipython",
    "version": 3
   },
   "file_extension": ".py",
   "mimetype": "text/x-python",
   "name": "python",
   "nbconvert_exporter": "python",
   "pygments_lexer": "ipython3",
   "version": "3.7.3"
  }
 },
 "nbformat": 4,
 "nbformat_minor": 4
}
