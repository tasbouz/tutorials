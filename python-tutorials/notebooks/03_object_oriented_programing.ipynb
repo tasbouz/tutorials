{
 "cells": [
  {
   "cell_type": "markdown",
   "metadata": {},
   "source": [
    "# Python Tutorial - Object Oriented Programing"
   ]
  },
  {
   "cell_type": "markdown",
   "metadata": {},
   "source": [
    "# 1. Creating A Class"
   ]
  },
  {
   "cell_type": "code",
   "execution_count": 44,
   "metadata": {},
   "outputs": [],
   "source": [
    "# Creates the class \"Employee\"\n",
    "class Employee:  \n",
    "    # Describes what the class does \n",
    "    'A Class for employees of a company'                                              \n",
    "    \n",
    "    # Defines two class variables: emp_counter and months\n",
    "    emp_counter = 0                                                                 \n",
    "    months = 12                                                                     \n",
    "    \n",
    "    # Dunder Method __init__: Defines the object of the class (self is the name of the instance)\n",
    "    def __init__(self, name, salary):\n",
    "        # Two attributes: Name and Salary\n",
    "        self.name = name                                                             \n",
    "        self.salary = salary                                                         \n",
    "          \n",
    "        # Measure Emplyees: We need Employee.emp_counter, not just emp_counter. \n",
    "        Employee.emp_counter += 1                                                   \n",
    "    \n",
    "    # Dunder Method __repr__: What should be printed out when we call an instance\n",
    "    def __repr__(self):\n",
    "        return ('Employee {} - Name: {}, Salary: {}'.format(Employee.emp_counter, self.name, self.salary))\n",
    "    \n",
    "    # Dunder Method __add__: What shoud a + sign do between two instances (here just add the salaries)\n",
    "    def __add__(self, other):\n",
    "        return (self.salary + other.salary)\n",
    "    \n",
    "    # A regular method: Prints the name and the salary of an employee (same as __repr__ but now a regular method) \n",
    "    def displayEmployee(self):                                                       \n",
    "        print ('Name : ', self.name,  ', Salary: ', self.salary)      \n",
    "    \n",
    "    # A regular method: Calculates and prints the year salary of an employee. Uses also a calss variable\n",
    "    def yearSalary(self):                                                            \n",
    "        print ('Year salary of ', self.name, ' is ', (self.salary * self.months))    \n",
    "   \n",
    "    # A class method: Changes the months variable to whatever we set it\n",
    "    def setMonths(cls, months_var):                                                    \n",
    "        cls.months = months_var\n",
    "   \n",
    "     # A static method: Just a function inside the class. We could have created it outside the class, but it is logically connected with the class\n",
    "    def workingDay(day):                                                           \n",
    "        print (day)"
   ]
  },
  {
   "cell_type": "markdown",
   "metadata": {},
   "source": [
    "## 2. Creating An Instance"
   ]
  },
  {
   "cell_type": "code",
   "execution_count": 45,
   "metadata": {},
   "outputs": [
    {
     "name": "stdout",
     "output_type": "stream",
     "text": [
      "Employee 1 - Name: Tasos Bouzikas, Salary: 1000\n",
      "Name :  Tasos Bouzikas , Salary:  1000\n",
      "Name :  Georgia Sarolidou , Salary:  2000\n",
      "Name :  Tasos Bouzikas , Salary:  1000\n",
      "Name :  Georgia Sarolidou , Salary:  2000\n",
      "Year salary of  Tasos Bouzikas  is  12000\n",
      "Year salary of  Georgia Sarolidou  is  22000\n"
     ]
    },
    {
     "ename": "TypeError",
     "evalue": "setMonths() missing 1 required positional argument: 'months_var'",
     "output_type": "error",
     "traceback": [
      "\u001b[0;31m---------------------------------------------------------------------------\u001b[0m",
      "\u001b[0;31mTypeError\u001b[0m                                 Traceback (most recent call last)",
      "\u001b[0;32m<ipython-input-45-1f2e614239fd>\u001b[0m in \u001b[0;36m<module>\u001b[0;34m()\u001b[0m\n\u001b[1;32m     30\u001b[0m \u001b[0;34m\u001b[0m\u001b[0m\n\u001b[1;32m     31\u001b[0m \u001b[0;31m# We did the same thing but through a class method, i.e a function inside the class that changes the class vaariable months\u001b[0m\u001b[0;34m\u001b[0m\u001b[0;34m\u001b[0m\u001b[0m\n\u001b[0;32m---> 32\u001b[0;31m \u001b[0mEmployee\u001b[0m\u001b[0;34m.\u001b[0m\u001b[0msetMonths\u001b[0m\u001b[0;34m(\u001b[0m\u001b[0;36m11\u001b[0m\u001b[0;34m)\u001b[0m\u001b[0;34m\u001b[0m\u001b[0m\n\u001b[0m\u001b[1;32m     33\u001b[0m \u001b[0;34m\u001b[0m\u001b[0m\n\u001b[1;32m     34\u001b[0m \u001b[0;31m# We call the function workingDay inside Employee class\u001b[0m\u001b[0;34m\u001b[0m\u001b[0;34m\u001b[0m\u001b[0m\n",
      "\u001b[0;31mTypeError\u001b[0m: setMonths() missing 1 required positional argument: 'months_var'"
     ]
    }
   ],
   "source": [
    "# An instance: Tasos Bouzikas - 1000\n",
    "emp_1 = Employee('Tasos Bouzikas', 1000)\n",
    "print(emp_1)\n",
    "\n",
    "# Another instance: Georgia Sarolidou - 2000\n",
    "emp_2 = Employee('Georgia Sarolidou', 2000)\n",
    "print(emp_2)\n",
    "\n",
    "# Use __add__ method to get the sum of the salary \n",
    "print(emp_1 + emp_2)\n",
    "\n",
    "# Checks if emp_1 is an instance of the class Employee. Returns either True or False\n",
    "isinstance(emp_1, Employee)                                                          \n",
    "\n",
    "# Apply the method displayEmployee to emp_1 and emp_2\n",
    "emp_1.displayEmployee()\n",
    "emp_2.displayEmployee() \n",
    "\n",
    "# Another way to Apply the method displayEmployee to emp_1 and emp_2\n",
    "Employee.displayEmployee(emp_1) \n",
    "Employee.displayEmployee(emp_2)   \n",
    "                                                   \n",
    "# Apply the method yearSalary to emp_1. By default emp_1.months = 12\n",
    "emp_1.yearSalary()                                                                   \n",
    "\n",
    "# We specify different months for employee 2\n",
    "emp_2.months = 11 \n",
    "\n",
    "# Apply the method yearSalary to emp_2. Now emp_2.months = 11\n",
    "emp_2.yearSalary()                                                                                    \n",
    "\n",
    "# We change the 'default' months from 12 that was defined inside the class to 11\n",
    "Employee.months = 11\n",
    "\n",
    "# We did the same thing but through a class method, i.e a function inside the class that changes the class vaariable months\n",
    "Employee.setMonths(11)\n",
    "\n",
    "# We call the function workingDay inside Employee class\n",
    "Employee.workingDay(Monday)                                                          "
   ]
  },
  {
   "cell_type": "markdown",
   "metadata": {},
   "source": [
    "## 3. Inheritance"
   ]
  },
  {
   "cell_type": "code",
   "execution_count": null,
   "metadata": {
    "collapsed": true,
    "jupyter": {
     "outputs_hidden": true
    }
   },
   "outputs": [],
   "source": [
    "# The new class Developer has ALL the functionality of Employee. Then everything works the same. \n",
    "class Developer(Employee):                                                          \n",
    "    'A Class for developers of a company'\n",
    "\n",
    "    months = 6\n",
    "\n",
    "    def __init__(self, name, salary, bonus):        # We want to add an extra attribute 'Bonus', on top of name and salary that are already there due to inheritance\n",
    "        super().--__init__(first,last,pay)          # Inherits all the attributes from Employee (instead of copying them)\n",
    "        self.bonus = bonus                          # In the usual way we add the new extra attribute\n",
    "\n",
    "\n",
    "issubclass(Developer,Employee)                      # Checks if Developer is a subclass of the class Employee. Returns either True or False"
   ]
  }
 ],
 "metadata": {
  "kernelspec": {
   "display_name": "Python 3",
   "language": "python",
   "name": "python3"
  },
  "language_info": {
   "codemirror_mode": {
    "name": "ipython",
    "version": 3
   },
   "file_extension": ".py",
   "mimetype": "text/x-python",
   "name": "python",
   "nbconvert_exporter": "python",
   "pygments_lexer": "ipython3",
   "version": "3.7.3"
  }
 },
 "nbformat": 4,
 "nbformat_minor": 4
}
