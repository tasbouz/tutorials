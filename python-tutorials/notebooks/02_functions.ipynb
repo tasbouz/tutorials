{
 "cells": [
  {
   "cell_type": "markdown",
   "metadata": {},
   "source": [
    "# Python Tutorial - Functions"
   ]
  },
  {
   "cell_type": "markdown",
   "metadata": {},
   "source": [
    "## 1. Functions\n",
    "\n",
    "Function is a whole ''subprogram'' that breaks programms into modules and runs everytime we call it."
   ]
  },
  {
   "cell_type": "code",
   "execution_count": null,
   "metadata": {
    "collapsed": true,
    "jupyter": {
     "outputs_hidden": true
    }
   },
   "outputs": [],
   "source": [
    "# DEFINE FUNCTIONS named functionname with argument x and default argument y=1 unless it is defined differently. (Use any number of arguments, even no arguments) \n",
    "def functionname(x, y=1):  \n",
    "    # Describe what the function does\n",
    "    \"function_docstring\"\n",
    "    # Whatever we want the function to do\n",
    "    function_body\n",
    "    # What the function returns as a result. It might be none. A return ends a function.\n",
    "    return expression               \n",
    "\n",
    "# Calling the function for a specific value of x = 5\n",
    "functionname(x=5) "
   ]
  },
  {
   "cell_type": "markdown",
   "metadata": {},
   "source": [
    "## 2. Scope\n",
    "\n",
    "Pythons follows the LEGB rule for finding variables:\n",
    "\n",
    "* Local Scope (Inside the function)\n",
    "* Enclosing Scope (Function within functions)\n",
    "* Global Scope (Main script)\n",
    "* Built-In Scope (Built-In variable names)"
   ]
  },
  {
   "cell_type": "code",
   "execution_count": null,
   "metadata": {},
   "outputs": [],
   "source": [
    "x = 'global variable'                      # x in global scope                \n",
    "print(x)\n",
    "\n",
    "def function():\n",
    "    y = 'local variable'                   # y in local scope\n",
    "    print(y)\n",
    "    \n",
    "    def another_function():\n",
    "        z = 'inner local variable'\n",
    "        print(z)                           # z in local scope\n",
    "    \n",
    "        print(y)                           # y in enclosing scope\n",
    "    \n",
    "    print(x)                               # x in global scope\n",
    "    another_function()\n",
    "\n",
    "function()"
   ]
  },
  {
   "cell_type": "markdown",
   "metadata": {},
   "source": [
    "## 3. First-Class Functions & Higher-Order Functions\n",
    "\n",
    "Python has first-class functions since it treats functions as first-class citizens. This means that supports passing functions as arguments to other functions, returning them as the values from other functions, and assigning them to variables or storing them in data structures.\n",
    "\n",
    "A higher-order function is a function that does at least one of the following:\n",
    "\n",
    "* Takes one or more functions as arguments.\n",
    "* Returns a function as its result."
   ]
  },
  {
   "cell_type": "markdown",
   "metadata": {},
   "source": [
    "### - Assigning the function to a new variable"
   ]
  },
  {
   "cell_type": "code",
   "execution_count": null,
   "metadata": {},
   "outputs": [],
   "source": [
    "def square(x):\n",
    "    return x*x\n",
    "\n",
    "new_variable = square\n",
    "\n",
    "print(square(2))\n",
    "print(new_variable(2))"
   ]
  },
  {
   "cell_type": "markdown",
   "metadata": {},
   "source": [
    "### - Acceepting a function as an argument to another function"
   ]
  },
  {
   "cell_type": "code",
   "execution_count": null,
   "metadata": {
    "collapsed": true,
    "jupyter": {
     "outputs_hidden": true
    }
   },
   "outputs": [],
   "source": [
    "def my_map(function, arg_list):\n",
    "    result = list()\n",
    "    for i in arg_list:\n",
    "        result.append(function(i))\n",
    "    return result\n",
    "        \n",
    "print(my_map(square, [1,2,3,4,5]))"
   ]
  },
  {
   "cell_type": "markdown",
   "metadata": {},
   "source": [
    "### - Returning a function as a result"
   ]
  },
  {
   "cell_type": "code",
   "execution_count": null,
   "metadata": {},
   "outputs": [],
   "source": [
    "def printer(message):\n",
    "    \n",
    "    def print_message():\n",
    "        print(message)\n",
    "        \n",
    "    return print_message()\n",
    "\n",
    "printer('Hi')"
   ]
  },
  {
   "cell_type": "markdown",
   "metadata": {},
   "source": [
    "## 4. Closures\n",
    "\n",
    "Closures are techniques for implementing lexically scoped name binding in languages with first-class functions. Operationally, a closure is a record storing a function[a] together with an environment:[1] a mapping associating each free variable of the function (variables that are used locally, but defined in an enclosing scope) with the value or reference to which the name was bound when the closure was created.[b] A closure—unlike a plain function—allows the function to access those captured variables through the closure's copies of their values or references, even when the function is invoked outside their scope."
   ]
  },
  {
   "cell_type": "code",
   "execution_count": 23,
   "metadata": {},
   "outputs": [
    {
     "name": "stdout",
     "output_type": "stream",
     "text": [
      "Hi\n",
      "Hey\n"
     ]
    }
   ],
   "source": [
    "def printer(msg):\n",
    "    message = msg\n",
    "    \n",
    "    def print_message():\n",
    "        print(message)\n",
    "        \n",
    "    return print_message\n",
    "\n",
    "hi_printer = printer('Hi')        # Closure makes my_printer to remember the message 'Hi' in the local scope!\n",
    "hi_printer()\n",
    "hey_printer = printer('Hey')      # Closure makes my_printer to remember the message 'Hey' in the local scope!\n",
    "hey_printer()                   "
   ]
  }
 ],
 "metadata": {
  "kernelspec": {
   "display_name": "Python 3",
   "language": "python",
   "name": "python3"
  },
  "language_info": {
   "codemirror_mode": {
    "name": "ipython",
    "version": 3
   },
   "file_extension": ".py",
   "mimetype": "text/x-python",
   "name": "python",
   "nbconvert_exporter": "python",
   "pygments_lexer": "ipython3",
   "version": "3.7.3"
  }
 },
 "nbformat": 4,
 "nbformat_minor": 4
}
