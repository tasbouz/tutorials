{
 "cells": [
  {
   "cell_type": "markdown",
   "metadata": {},
   "source": [
    "# Python Tutorial - Basics"
   ]
  },
  {
   "cell_type": "markdown",
   "metadata": {},
   "source": [
    "## 1. Basic Objects"
   ]
  },
  {
   "cell_type": "markdown",
   "metadata": {},
   "source": [
    "### - OPERATORS"
   ]
  },
  {
   "cell_type": "code",
   "execution_count": null,
   "metadata": {
    "collapsed": true,
    "jupyter": {
     "outputs_hidden": true
    }
   },
   "outputs": [],
   "source": [
    "# Addition, Subtraction, Multiplication, Division, Power, Remainder\n",
    "# Be careful: 3/5: the result is the division of integers = 0. 3.0/5.0: the result is 0.6\n",
    " +, -, *, /, **, %\n",
    "\n",
    "# x += y means x = x + y. Same for all of them\n",
    "+=, -=, *=. /=, **=, %=           \n",
    "\n",
    "# Equal, Not Equal, Greater Than, Less Than, Greater Or Equal Than, Less Or Equal Than\n",
    "==, !=, >, <, >=, <= \n",
    "\n",
    "# Logical Operations: and, or, not\n",
    "and, or, not\n",
    "\n",
    "# Membership Operators: Checks if something is in (or not in) inside something else\n",
    "in, not in\n",
    "\n",
    "# Identity Operators: Checks if two things are EXACTLY the same\n",
    "is, is not                        "
   ]
  },
  {
   "cell_type": "markdown",
   "metadata": {},
   "source": [
    "### - NUMBERS & BOOLEANS"
   ]
  },
  {
   "cell_type": "code",
   "execution_count": null,
   "metadata": {
    "collapsed": true,
    "jupyter": {
     "outputs_hidden": true
    }
   },
   "outputs": [],
   "source": [
    "# Integer (int). type(3) = int\n",
    "x = 3                                 \n",
    "\n",
    "# Floating Points (float). type(3.5) = float\n",
    "x = 3.5\n",
    "\n",
    "# Boolean Operatos: True and False\n",
    "True, False                       \n",
    "\n",
    "# Takes x and turns it into an integer (if it is possible)                              \n",
    "int(x) \n",
    "\n",
    "# Takes x and turns it into a floating number (if it is possible)\n",
    "float(x)                          "
   ]
  },
  {
   "cell_type": "markdown",
   "metadata": {},
   "source": [
    "### - STRINGS"
   ]
  },
  {
   "cell_type": "code",
   "execution_count": null,
   "metadata": {
    "collapsed": true,
    "jupyter": {
     "outputs_hidden": true
    }
   },
   "outputs": [],
   "source": [
    "# String (str). type('Spam') = str\n",
    "S = 'Spam'                           \n",
    "\n",
    "# Adds 'xyz' in the end of the string 'Spam' -> 'Spamxyz'\n",
    "'Spam' + 'xyz'                    \n",
    "\n",
    "# Multiplies string 'Spam' 3 times -> 'SpamSpamSpam'\n",
    "3 * 'Spam'                        \n",
    "\n",
    "# Prints the letter in i'th position from the start. First Letter is 0\n",
    "S[i]  \n",
    "\n",
    "# Prints the letter in i'th position from the end. Last Letter is 1\n",
    "S[-i]  \n",
    "\n",
    "# Prints the letters from i up to j-1. If i or j is missing, it means from the start or the end. \n",
    "S[i:j] \n",
    "\n",
    "# When something is missing, it means from the beggining (or the end). If both are missing prints the whole string\n",
    "S[:j], S[i:], S[:]               \n",
    "\n",
    "# Length of the string, i.e the number of the characters\n",
    "len(S)\n",
    "\n",
    "# Says everything we can do with the strings\n",
    "dir(S)  \n",
    "\n",
    "# Takes x and turns it into a string   \n",
    "str(x)   \n",
    "\n",
    "# Splits the letter one by one to a list\n",
    "list('Spam')\n",
    "\n",
    "# Joins the letter back to one string\n",
    "join('Spam')                      \n",
    "\n",
    "\n",
    "# Use format() for printing string without interruptions of quote\n",
    "who = 'Tasos'\n",
    "what = 'Python'\n",
    "print ('{} did an intermediate {} file'.format(who, what))"
   ]
  },
  {
   "cell_type": "markdown",
   "metadata": {},
   "source": [
    "### - TUPLES  (An immutable and ordered sequence of elements)"
   ]
  },
  {
   "cell_type": "code",
   "execution_count": null,
   "metadata": {
    "collapsed": true,
    "jupyter": {
     "outputs_hidden": true
    }
   },
   "outputs": [],
   "source": [
    "# An empty tupple. I could have put elements in it right here.\n",
    "foo = ()                        \n",
    "\n",
    "# The i'th element of the tuple. The first one is the 0th\n",
    "foo[i]\n",
    "\n",
    "# The i'th element from the end of the tuple. The first (from the end) is 1\n",
    "foo[-i]\n",
    "\n",
    "# Elements of the tuple from i up to j-1.\n",
    "foo[i:j]  \n",
    "\n",
    "# When something is missing, it means from the beggining (or the end). If both are missing prints the whole tuple\n",
    "foo[:j], foo[i:], foo[:]        \n",
    "\n",
    "# Adds the element x to the tuple\n",
    "foo = foo + (x)                 "
   ]
  },
  {
   "cell_type": "markdown",
   "metadata": {},
   "source": [
    "### - LISTS (A mutable and ordered sequence of elements)"
   ]
  },
  {
   "cell_type": "code",
   "execution_count": null,
   "metadata": {
    "collapsed": true,
    "jupyter": {
     "outputs_hidden": true
    }
   },
   "outputs": [],
   "source": [
    "# An empty list. I could have put elements in it right here\n",
    "foo = []\n",
    "\n",
    "# An empty list. I could have put elements in it right here\n",
    "foo = list()                    \n",
    "\n",
    "# Add two lists: [1,2,3,4,5,6]\n",
    "[1,2,3] + [4,5,6]\n",
    "\n",
    "# Multiply a list: ['Hi!', 'Hi!', 'Hi!', 'Hi!']\n",
    "['Hi!'] * 4 \n",
    "\n",
    "# Checks if something is inside the list: True (same for not in)\n",
    "3 in [1,2,3]    \n",
    "\n",
    "# Itterates through every item on the list: here 1,2,3\n",
    "for x in [1,2,3]           \n",
    "\n",
    "# The i'th element of the list. The first one is the 0th\n",
    "foo[i]\n",
    "\n",
    "# The i'th element from the end of the list. The first (from the end) is 1\n",
    "foo[-i]\n",
    "\n",
    "# Elements of the list from i up to j-1.\n",
    "foo[i:j] \n",
    "# When something is missing, it means from the beggining (or the end). If both are missing prints the whole list\n",
    "foo[:j], foo[i:], foo[:]        \n",
    "\n",
    "# We put the string 'something' to the i'th place of the list. \n",
    "# BE CAREFUL: AN ELEMENT MUST EXIST AT THAT POSITION BEFORE CHANGING IT\n",
    "foo[i] = 'something' \n",
    "\n",
    "# Deletes the i'th element of the list\n",
    "del(foo[i])                     \n",
    "\n",
    "# Number of items in the list\n",
    "len(foo)\n",
    "\n",
    "# Sum of all elements of the list\n",
    "sum(foo) \n",
    "\n",
    "# Finds maximum value of the list\n",
    "max(foo)   \n",
    "\n",
    "# Finds minimum value of the list\n",
    "min(foo)\n",
    "\n",
    "# Sorts foo list\n",
    "sorted(foo)                     \n",
    "\n",
    "# Adds the string 'something' to the empty list. We can add anything\n",
    "foo.append('something')\n",
    "\n",
    "# Removes the string 'something' to the empty list. We can remove anything\n",
    "foo.remove('something') \n",
    "\n",
    "# Puts items in alphabetical order (or in order of numbers)\n",
    "foo.sort()                      \n",
    "\n",
    "\n",
    "# It prints out the entries of the list \"my_list\" with a separator specified at the beginning (here a comma and a space)\n",
    "my_list = ['A', 'B', 'C', 'D']\n",
    "print (', '.join(my_list))\n",
    "\n",
    "# Enumerate instead of range(len(my_list))\n",
    "for i,j in enumerate(my_list):\n",
    "    print (i,j)\n",
    "\n",
    "# Same as:\n",
    "for i in range(len(my_list):\n",
    "    print (i, my_list[i])\n",
    "\n",
    "# zip function for using multiple lists\n",
    "a = [1,2,3,4]\n",
    "b = [5,6,7,8]\n",
    "\n",
    "for i,j in zip(a,b):\n",
    "    print(i,j)"
   ]
  },
  {
   "cell_type": "markdown",
   "metadata": {},
   "source": [
    "### - DICTIONARIES (A mutable and disordered sequence of elements)\n"
   ]
  },
  {
   "cell_type": "code",
   "execution_count": null,
   "metadata": {
    "collapsed": true,
    "jupyter": {
     "outputs_hidden": true
    }
   },
   "outputs": [],
   "source": [
    "# An empty dictionary. I could have put elements in it right here\n",
    "foo = {}  \n",
    "\n",
    "# An empty dictionary. I could have put elements in it right here\n",
    "foo = dict()                    \n",
    "\n",
    "# Puts data in dictionary. In lists the key is always the position of the value.\n",
    "dict[key] = value              \n",
    "\n",
    "# Prints both keys and associated values\n",
    "print (dictionary)\n",
    "\n",
    "# Prints the value of the associated key\n",
    "print (dictionary[key])           \n",
    "\n",
    "# If the key exist, ti prints the vaues, otherwise it prints 0 and you dont get a traceback.\n",
    "print (dictionary.get(key,0))   \n",
    "\n",
    "# Prints in a list the keys of the dictionary\n",
    "print (dictionary.keys())\n",
    "\n",
    "# Prints in a list the values of the dictionary\n",
    "print (dictionary.values())\n",
    "\n",
    "# Prints in a list the tuples (key, value)\n",
    "print (dictionary.items())       \n",
    "\n",
    "# Double iteration, the variables keys and values move together.\n",
    "for keys,values in dictionary:  \n",
    "    print keys,values\n",
    "\n",
    "\n",
    "# Splits string into pieces and puts in list. The () says what seperates the words. Here is just a blanck, i.e ()\n",
    "x = 'With Three Words'\n",
    "list = x.split(' ')"
   ]
  },
  {
   "cell_type": "markdown",
   "metadata": {},
   "source": [
    "## 2. Statements"
   ]
  },
  {
   "cell_type": "markdown",
   "metadata": {},
   "source": [
    "### - THE IF STATEMENT "
   ]
  },
  {
   "cell_type": "code",
   "execution_count": null,
   "metadata": {
    "collapsed": true,
    "jupyter": {
     "outputs_hidden": true
    }
   },
   "outputs": [],
   "source": [
    "# For just one statement_block we can do it in one line\n",
    "if condition_1:                     \n",
    "    statement_block_1\n",
    "    statement_block_2  \n",
    "    ...\n",
    "elif condition_2:\n",
    "    statement_block_3\n",
    "    statement_block_4  \n",
    "    ...\n",
    "...    \n",
    "else:\n",
    "    statement_block_5\n",
    "    statement_block_6  \n",
    "    ...\n",
    "\n",
    "# One line if\n",
    "statement_1 if condition else statement_2"
   ]
  },
  {
   "cell_type": "markdown",
   "metadata": {},
   "source": [
    "### - THE WHILE STATEMENT (Loop for unknown time of iterations)"
   ]
  },
  {
   "cell_type": "code",
   "execution_count": null,
   "metadata": {
    "collapsed": true,
    "jupyter": {
     "outputs_hidden": true
    }
   },
   "outputs": [],
   "source": [
    "# For just one statement_block we can do it in one line\n",
    "while condition_1:                  \n",
    "    statement_block_1\n",
    "    statement_block_2  \n",
    "    ...\n",
    "\n",
    "# One line while\n",
    "while if condition: statement_block"
   ]
  },
  {
   "cell_type": "markdown",
   "metadata": {},
   "source": [
    "### - THE FOR STATEMENT (Loop for known times of iterations)"
   ]
  },
  {
   "cell_type": "code",
   "execution_count": null,
   "metadata": {
    "collapsed": true,
    "jupyter": {
     "outputs_hidden": true
    }
   },
   "outputs": [],
   "source": [
    "# For just one statement_block we can do it in one line\n",
    "for variable in sequence:           \n",
    "    statement_block_1\n",
    "    statement_block_2  \n",
    "    ...\n",
    "else:\n",
    "    statement_block_3\n",
    "    statement_block_4  \n",
    "    ...\n",
    "\n",
    "# One line for loop + condition (we can exclude the condition)\n",
    "[statement for variable_in_sequence if condition]\n",
    "\n",
    "# Same as:\n",
    "    for variable_in_sequence:\n",
    "        if condition:\n",
    "            statement\n",
    "\n",
    "# Example 1: Create a list\n",
    "# IMPORTANT: Stored in memory as a regular list     \n",
    "x = [i for i in range(5) if i>3]            \n",
    "\n",
    "# Same as:\n",
    "x = []  \n",
    "for i in range(5):\n",
    "    x.append(i)\n",
    "\n",
    "# Example 2: Print the entries of a list\n",
    "[print (i) for i in x]\n",
    "\n",
    "# Same as:\n",
    "for i in x:\n",
    "    print (i)"
   ]
  },
  {
   "cell_type": "markdown",
   "metadata": {},
   "source": [
    "## 3. Base Packages"
   ]
  },
  {
   "cell_type": "markdown",
   "metadata": {},
   "source": [
    "### - RE (Regular Expressions)"
   ]
  },
  {
   "cell_type": "code",
   "execution_count": null,
   "metadata": {
    "collapsed": true,
    "jupyter": {
     "outputs_hidden": true
    }
   },
   "outputs": [],
   "source": [
    "# List Of Symbols\n",
    "\n",
    ".       - Any Character Except New Line\n",
    "\\d      - Digit (0-9)\n",
    "\\D      - Not a Digit (0-9)\n",
    "\\w      - Word Character (a-z, A-Z, 0-9, _)\n",
    "\\W      - Not a Word Character\n",
    "\\s      - Whitespace (space, tab, newline)\n",
    "\\S      - Not Whitespace (space, tab, newline)\n",
    "\n",
    "\\b      - Word Boundary\n",
    "\\B      - Not a Word Boundary\n",
    "^       - Beginning of a String\n",
    "$       - End of a String\n",
    "\n",
    "[]      - Matches Characters in brackets\n",
    "[^ ]    - Matches Characters NOT in brackets\n",
    "|       - Either Or\n",
    "( )     - Group\n",
    "\n",
    "Quantifiers:\n",
    "*       - 0 or More\n",
    "+       - 1 or More\n",
    "?       - 0 or One\n",
    "{3}     - Exact Number\n",
    "{3,4}   - Range of Numbers (Minimum, Maximum)\n",
    "\n",
    "\n",
    "#### Sample Regexs ####\n",
    "\n",
    "[a-zA-Z0-9_.+-]+@[a-zA-Z0-9-]+\\.[a-zA-Z0-9-.]+"
   ]
  },
  {
   "cell_type": "code",
   "execution_count": 12,
   "metadata": {},
   "outputs": [
    {
     "name": "stdout",
     "output_type": "stream",
     "text": [
      "<_sre.SRE_Match object; span=(4, 9), match='there'>\n"
     ]
    }
   ],
   "source": [
    "# Regular expresions module\n",
    "import re  \n",
    "\n",
    "# IMPORTANT DISTINCTION BETWEEN STRINGS AND RAW STRINGS\n",
    "string = '\\t Hey'         # Pythons interprets \\t as tab.\n",
    "raw_string = r'\\t Hey'    # Python reads everything as characters. \n",
    "\n",
    "# First let's define a string\n",
    "text_to_search = 'Hey there. This is a sentence'\n",
    "\n",
    "# In order to use regular expressions, first we define the pattern we are looking for.\n",
    "pattern = re.compile(r'there')\n",
    "\n",
    "# Then we apply the patter to the string we are interested in.\n",
    "matches = pattern.finditer(text_to_search)\n",
    "\n",
    "# Finally we see the matches by itterate through them\n",
    "for match in matches:\n",
    "    print(match)\n",
    "\n"
   ]
  },
  {
   "cell_type": "markdown",
   "metadata": {},
   "source": [
    "### - TIMEIT (Time of processes)"
   ]
  },
  {
   "cell_type": "code",
   "execution_count": null,
   "metadata": {
    "collapsed": true,
    "jupyter": {
     "outputs_hidden": true
    }
   },
   "outputs": [],
   "source": [
    "# Timeit module \n",
    "import timeit\n",
    "\n",
    "# It's important to define EVERYTHING in the process. \n",
    "timeit.timeit('process', number=<number>)"
   ]
  },
  {
   "cell_type": "markdown",
   "metadata": {},
   "source": [
    "### - PICKLE (For serializing objects)"
   ]
  },
  {
   "cell_type": "code",
   "execution_count": null,
   "metadata": {
    "collapsed": true,
    "jupyter": {
     "outputs_hidden": true
    }
   },
   "outputs": [],
   "source": [
    "# Pickle module\n",
    "import pickle\n",
    "\n",
    "# Creates a pickle object to later dump our object we want to serialize\n",
    "# Fist the name, then 'wb', i.e write bytes\n",
    "pickle_out = open('my_nane.pickle', 'wb')        \n",
    "\n",
    "# Dumps our object to pickle_out\n",
    "# First the object that we want to serialize, then the pickle object.\n",
    "pickle.dump(object, pickle_out)                  \n",
    "\n",
    "# Close the pickle object. Saves the pickle to the same directory where our script lives\n",
    "pickle_out.close()\n",
    "\n",
    "# Opens a pickle object so we can use it\n",
    "# Fist the name, then 'rb', i.e read bytes\n",
    "pickle_in = open('my_nane.pickle', 'rb')\n",
    "\n",
    "# Loads the pickle object to a variable for us to use it\n",
    "my_name = pickle.load(pickle_in)"
   ]
  },
  {
   "cell_type": "markdown",
   "metadata": {},
   "source": [
    "### - DATETIME (Deals with dates and times)"
   ]
  },
  {
   "cell_type": "code",
   "execution_count": null,
   "metadata": {
    "collapsed": true,
    "jupyter": {
     "outputs_hidden": true
    }
   },
   "outputs": [],
   "source": [
    "# Datetime Module \n",
    "import datetime\n",
    "\n",
    "# Current date\n",
    "datetime.date.today()   \n",
    "\n",
    "# Imports a date: year, month, day                               \n",
    "datetime.date(2016, 7, 24)     \n",
    "\n",
    "# Imports a time: hours, minutes, seconds, microseconds                        \n",
    "datetime.time(9, 30, 45, 10000)  \n",
    "\n",
    "# Imports a datetime: year, month, day, hours, minutes, seconds, microseconds                      \n",
    "datetime.datetime(2016, 7, 24, 9, 30, 45, 10000)       \n",
    "\n",
    "# Creates a standar period of 7 days. Works with any attribute\n",
    "datetime.timedelta(days=7)\n",
    "\n",
    "# Date in a week from now                             \n",
    "datetime.date.today() + datetime.timedelta(days=7)     \n",
    "                                              \n",
    "# strptime: Converts a string to datetime. Works with anything\n",
    "str = 'July 26, 2016'\n",
    "datetime.datetime.strptime(str, '%B %d, %Y')           \n",
    "\n",
    "# strftime: Converts a datetime to string. Works with anything\n",
    "dt = 'July 26, 2016'\n",
    "dt.strftime('%B %d, %Y')                               "
   ]
  },
  {
   "cell_type": "markdown",
   "metadata": {},
   "source": [
    "### - LOGGING (Logs)\n",
    "\n",
    "#### Levels Of Logging (It follows this order. If WARNING is default, nothing below warning will be appeared)\n",
    "\n",
    "* **DEBUG**: Detailed information, typically of interest only when diagnosing problems.\n",
    "\n",
    "* **INFO**: Confirmation that things are working as expected.\n",
    "\n",
    "* **WARNING**: An indication that something unexpected happened, or indicative of some problem in the near future (e.g. ‘disk space low’). The software is still working as expected. (Default)\n",
    "\n",
    "* **ERROR**: Due to a more serious problem, the software has not been able to perform some function.\n",
    "\n",
    "* **CRITICAL**: A serious error, indicating that the program itself may be unable to continue running."
   ]
  },
  {
   "cell_type": "code",
   "execution_count": 34,
   "metadata": {},
   "outputs": [],
   "source": [
    "# Logging Module\n",
    "import logging\n",
    "\n",
    "# Only for jupyter notebook that already contains a logging package\n",
    "import importlib\n",
    "importlib.reload(logging)\n",
    "\n",
    "# Setting DEBUG as the default\n",
    "logging.basicConfig(filename = 'test.log',                                 # Name of the file for saving logs\n",
    "                    level=logging.DEBUG,                                   # Default level of log (if not specified, then WARNING)\n",
    "                    format='%(asctime)s:%(levelname)s:%(message)s')        # What do we need our log file to contain (if not specified, then just the message)\n",
    "\n",
    "# Test Function\n",
    "def addition(x,y):\n",
    "    return(x+y)\n",
    "\n",
    "# Log information to the console\n",
    "logging.debug(addition(3,4))"
   ]
  }
 ],
 "metadata": {
  "kernelspec": {
   "display_name": "Python 3",
   "language": "python",
   "name": "python3"
  },
  "language_info": {
   "codemirror_mode": {
    "name": "ipython",
    "version": 3
   },
   "file_extension": ".py",
   "mimetype": "text/x-python",
   "name": "python",
   "nbconvert_exporter": "python",
   "pygments_lexer": "ipython3",
   "version": "3.7.3"
  }
 },
 "nbformat": 4,
 "nbformat_minor": 4
}
