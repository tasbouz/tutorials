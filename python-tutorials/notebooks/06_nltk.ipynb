{
 "cells": [
  {
   "cell_type": "markdown",
   "metadata": {},
   "source": [
    "# Python Tutorial - NLTK"
   ]
  },
  {
   "cell_type": "markdown",
   "metadata": {},
   "source": [
    "## 1. Basic Terminology & NLTK Instalation\n",
    "\n",
    "**Corpora**: Body of text. Eg: Medical Journal, Presidential Speech, etc... <br>\n",
    "**Lexicon**: Words and their meanings <br>"
   ]
  },
  {
   "cell_type": "code",
   "execution_count": 1,
   "metadata": {},
   "outputs": [
    {
     "name": "stdout",
     "output_type": "stream",
     "text": [
      "[nltk_data] Error loading all: <urlopen error [SSL:\n",
      "[nltk_data]     CERTIFICATE_VERIFY_FAILED] certificate verify failed\n",
      "[nltk_data]     (_ssl.c:749)>\n"
     ]
    },
    {
     "data": {
      "text/plain": [
       "False"
      ]
     },
     "execution_count": 1,
     "metadata": {},
     "output_type": "execute_result"
    }
   ],
   "source": [
    "# Import Natural Language Tool Kit\n",
    "import nltk \n",
    "\n",
    "# Download all datasets and models from nltk package\n",
    "nltk.download('all')"
   ]
  },
  {
   "cell_type": "markdown",
   "metadata": {},
   "source": [
    "If it doesn't work try the following:"
   ]
  },
  {
   "cell_type": "code",
   "execution_count": 2,
   "metadata": {},
   "outputs": [
    {
     "name": "stdout",
     "output_type": "stream",
     "text": [
      "showing info https://raw.githubusercontent.com/nltk/nltk_data/gh-pages/index.xml\n"
     ]
    }
   ],
   "source": [
    "import nltk\n",
    "import ssl\n",
    "\n",
    "try:\n",
    "    _create_unverified_https_context = ssl._create_unverified_context\n",
    "except AttributeError:\n",
    "        pass\n",
    "else:\n",
    "        ssl._create_default_https_context = _create_unverified_https_context\n",
    "        nltk.download()"
   ]
  },
  {
   "cell_type": "markdown",
   "metadata": {},
   "source": [
    "## 2. NLTK Module"
   ]
  },
  {
   "cell_type": "code",
   "execution_count": 1,
   "metadata": {},
   "outputs": [
    {
     "data": {
      "text/plain": [
       "['This', 'is', 'an', 'example', 'text', '!']"
      ]
     },
     "execution_count": 1,
     "metadata": {},
     "output_type": "execute_result"
    }
   ],
   "source": [
    "# Tokenizing: Splitting text into components (either sentences or words)\n",
    "from nltk.tokenize import sent_tokenize, word_tokenize\n",
    "\n",
    "foo = 'This is an example text!'\n",
    "\n",
    "# Splits the text into sentences and puts the sentences in a list\n",
    "sentences = sent_tokenize(foo)\n",
    "\n",
    "# Splits the text into words and puts the words in a list\n",
    "words = word_tokenize(foo)"
   ]
  },
  {
   "cell_type": "code",
   "execution_count": null,
   "metadata": {
    "collapsed": true,
    "jupyter": {
     "outputs_hidden": true
    }
   },
   "outputs": [],
   "source": [
    "# Stop Words: Words that do not have important meaning (i.e a, and, of, at, etc...)\n",
    "from nltk.corpus import stopwords\n",
    "\n",
    "# A set of predefined (by nltk) stop words of English language\n",
    "stop_words = set(stopwords.words('english'))\n",
    "\n",
    "# It removes all the stop words from the words list\n",
    "filtered_words = [word for word in words if not word in stop_words]"
   ]
  },
  {
   "cell_type": "code",
   "execution_count": null,
   "metadata": {
    "collapsed": true,
    "jupyter": {
     "outputs_hidden": true
    }
   },
   "outputs": [],
   "source": [
    "# Stemming: Keeping the core of the word. \n",
    "# Eg: working -> work, worked -> work. Sometimes gives a synonym\n",
    "form nltk.stem import PorterStemmer\n",
    "\n",
    "# Initializing the Stemmer\n",
    "ps = PorterStemmer() \n",
    "\n",
    "# It stems all the words in the words list\n",
    "stem_words = [ps.stem(word) for word in words]"
   ]
  },
  {
   "cell_type": "code",
   "execution_count": null,
   "metadata": {
    "collapsed": true,
    "jupyter": {
     "outputs_hidden": true
    }
   },
   "outputs": [],
   "source": [
    "# Lemmatizing: Keeping the core of the word. No synonyms. Better than Stemming\n",
    "from nltk.stem import WordNetLemmatizer\n",
    "\n",
    "# Initializing the Lemmatizer\n",
    "lemmatizer = WordNetLemmatizer()\n",
    "\n",
    "# It lemmatizes all the words in the list\n",
    "lem_words = [lemmatizer.lemmatize(word) for word in words]"
   ]
  },
  {
   "cell_type": "code",
   "execution_count": null,
   "metadata": {
    "collapsed": true,
    "jupyter": {
     "outputs_hidden": true
    }
   },
   "outputs": [],
   "source": [
    "# Tagging: Finding the tags of the words\n",
    "from nltk import pos_tag\n",
    "\n",
    "# It returns a list of tuples of the form (word, tag)\n",
    "tags = pos_tag(words) "
   ]
  }
 ],
 "metadata": {
  "kernelspec": {
   "display_name": "Python 3",
   "language": "python",
   "name": "python3"
  },
  "language_info": {
   "codemirror_mode": {
    "name": "ipython",
    "version": 3
   },
   "file_extension": ".py",
   "mimetype": "text/x-python",
   "name": "python",
   "nbconvert_exporter": "python",
   "pygments_lexer": "ipython3",
   "version": "3.7.3"
  }
 },
 "nbformat": 4,
 "nbformat_minor": 4
}
