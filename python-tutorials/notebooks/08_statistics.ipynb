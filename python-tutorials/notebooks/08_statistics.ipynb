{
 "cells": [
  {
   "cell_type": "code",
   "execution_count": null,
   "metadata": {},
   "outputs": [],
   "source": [
    "import math\n",
    "import numpy as np\n",
    "import pandas as pd\n",
    "import matplotlib.pyplot as plt\n",
    "import seaborn as sns\n",
    "import scipy.stats as stats\n",
    "from sklearn.linear_model import LinearRegression\n",
    "from statsmodels import regression\n",
    "import statsmodels.api as sm"
   ]
  },
  {
   "cell_type": "code",
   "execution_count": null,
   "metadata": {},
   "outputs": [],
   "source": [
    "# Generate 20 random integers < 100, for using them during the notebook!\n",
    "X = np.random.randint(100, size=20)   \n",
    "Y = np.random.randint(100, size=20)"
   ]
  },
  {
   "cell_type": "markdown",
   "metadata": {},
   "source": [
    "# Python Tutorial - Statistics\n",
    "\n",
    "The theory is covered in my notes. Here I give the code for various concepts!"
   ]
  },
  {
   "cell_type": "markdown",
   "metadata": {},
   "source": [
    "## 1. Central Tendency\n",
    "\n",
    "### - Arithmetic mean\n",
    "\n",
    "$$\\mu = \\frac{\\sum_{i=1}^N X_i}{N}$$\n"
   ]
  },
  {
   "cell_type": "code",
   "execution_count": null,
   "metadata": {
    "collapsed": true,
    "jupyter": {
     "outputs_hidden": true
    }
   },
   "outputs": [],
   "source": [
    "# Mean\n",
    "np.mean(X)"
   ]
  },
  {
   "cell_type": "markdown",
   "metadata": {},
   "source": [
    "### - Median\n",
    "\n",
    "$$N/2 \\ \\text{or} \\ (N+2)/2$$\n"
   ]
  },
  {
   "cell_type": "code",
   "execution_count": null,
   "metadata": {
    "collapsed": true,
    "jupyter": {
     "outputs_hidden": true
    }
   },
   "outputs": [],
   "source": [
    "# Median\n",
    "np.median(X)     "
   ]
  },
  {
   "cell_type": "markdown",
   "metadata": {},
   "source": [
    "### - Mode\n",
    "\n",
    "Most frequently occuring value in a data set."
   ]
  },
  {
   "cell_type": "code",
   "execution_count": null,
   "metadata": {
    "collapsed": true,
    "jupyter": {
     "outputs_hidden": true
    }
   },
   "outputs": [],
   "source": [
    "# Mode (Only the first one. No built in-function for all of them)\n",
    "stats.mode(X)[0][0]"
   ]
  },
  {
   "cell_type": "markdown",
   "metadata": {},
   "source": [
    "### - Geometric mean\n",
    "\n",
    "$$ G = \\sqrt[N]{X_1X_1\\ldots X_N} $$"
   ]
  },
  {
   "cell_type": "code",
   "execution_count": null,
   "metadata": {
    "collapsed": true,
    "jupyter": {
     "outputs_hidden": true
    }
   },
   "outputs": [],
   "source": [
    "# Geometric mean\n",
    "stats.gmean(X) "
   ]
  },
  {
   "cell_type": "markdown",
   "metadata": {},
   "source": [
    "### - Harmonic mean\n",
    "\n",
    "$$ H = \\frac{N}{\\sum_{i=1}^N \\frac{1}{X_i}} $$"
   ]
  },
  {
   "cell_type": "code",
   "execution_count": null,
   "metadata": {
    "collapsed": true,
    "jupyter": {
     "outputs_hidden": true
    }
   },
   "outputs": [],
   "source": [
    "# Harmonic mean\n",
    "stats.hmean(X)        "
   ]
  },
  {
   "cell_type": "markdown",
   "metadata": {},
   "source": [
    "### - Quantiles\n",
    "\n",
    "Cutpoints dividing the range of a probability distribution into contiguous intervals with equal probabilities."
   ]
  },
  {
   "cell_type": "code",
   "execution_count": null,
   "metadata": {},
   "outputs": [],
   "source": [
    "# q-Quantiles (Here q=50, i.e the median)\n",
    "np.percentile(X,q=50)"
   ]
  },
  {
   "cell_type": "markdown",
   "metadata": {},
   "source": [
    "<br>\n",
    "<hr>"
   ]
  },
  {
   "cell_type": "markdown",
   "metadata": {},
   "source": [
    "## 2. Measures of Dispersion\n",
    "\n",
    "\n",
    "### - Range\n",
    "\n",
    "Difference between the maximum and minimum values in a dataset."
   ]
  },
  {
   "cell_type": "code",
   "execution_count": null,
   "metadata": {},
   "outputs": [],
   "source": [
    "# Range\n",
    "np.ptp(X) "
   ]
  },
  {
   "cell_type": "markdown",
   "metadata": {},
   "source": [
    "### - Mean Absolute Deviation (MAD)\n",
    "\n",
    "$$ MAD = \\frac{\\sum_{i=1}^N |X_i - \\mu|}{N} $$\n"
   ]
  },
  {
   "cell_type": "code",
   "execution_count": null,
   "metadata": {
    "collapsed": true,
    "jupyter": {
     "outputs_hidden": true
    }
   },
   "outputs": [],
   "source": [
    "# Mean Absolute Deviation\n",
    "mu = np.mean(X)\n",
    "abs_dispersion = [np.abs(mu - x) for x in X]       \n",
    "np.sum(abs_dispersion)/len(abs_dispersion)"
   ]
  },
  {
   "cell_type": "markdown",
   "metadata": {},
   "source": [
    "### - Variance\n",
    "\n",
    "$$ \\sigma^2 = \\frac{\\sum_{i=1}^N (X_i - \\mu)^2}{N} $$"
   ]
  },
  {
   "cell_type": "code",
   "execution_count": null,
   "metadata": {
    "collapsed": true,
    "jupyter": {
     "outputs_hidden": true
    }
   },
   "outputs": [],
   "source": [
    "# Variance\n",
    "np.var(X) "
   ]
  },
  {
   "cell_type": "markdown",
   "metadata": {},
   "source": [
    "### - Standard Deviation\n",
    "\n",
    "$$ s = \\sqrt{\\sigma^2} $$"
   ]
  },
  {
   "cell_type": "code",
   "execution_count": null,
   "metadata": {
    "collapsed": true,
    "jupyter": {
     "outputs_hidden": true
    }
   },
   "outputs": [],
   "source": [
    "# Standard Deviation\n",
    "np.std(X)  "
   ]
  },
  {
   "cell_type": "markdown",
   "metadata": {},
   "source": [
    "### - Semivariance & Semideviation\n",
    "\n",
    "$$ \\frac{\\sum_{X_i < \\mu} (X_i - \\mu)^2}{N_<} $$"
   ]
  },
  {
   "cell_type": "code",
   "execution_count": null,
   "metadata": {
    "collapsed": true,
    "jupyter": {
     "outputs_hidden": true
    }
   },
   "outputs": [],
   "source": [
    "# Semivariance\n",
    "mu = np.mean(X)\n",
    "lows = [e for e in X if e <= mu]                         \n",
    "np.sum( (lows - mu) ** 2 ) / len(lows)\n",
    "\n",
    "# Semideviation\n",
    "np.sqrt(semivariance)"
   ]
  },
  {
   "cell_type": "markdown",
   "metadata": {},
   "source": [
    "### - Coefficient of Variation\n",
    "\n",
    "Coefficient of Variation (CV) is also known as relative despression (relative to a benchmark) and it is the standar deviation divided by the mean. \n",
    "\n",
    "$$ CV = \\frac{s}{\\mu} $$"
   ]
  },
  {
   "cell_type": "code",
   "execution_count": null,
   "metadata": {
    "collapsed": true,
    "jupyter": {
     "outputs_hidden": true
    }
   },
   "outputs": [],
   "source": [
    "# Coefficient of Variation\n",
    "stats.variation(X)"
   ]
  },
  {
   "cell_type": "markdown",
   "metadata": {},
   "source": [
    "### - Skew\n",
    "\n",
    "$$ S_{k} =\\frac{N}{(N-1)(N-2)} \\sum_{i=1}^N  \\frac{(X_i - \\mu)^3}{\\sigma^3} $$"
   ]
  },
  {
   "cell_type": "code",
   "execution_count": null,
   "metadata": {
    "collapsed": true,
    "jupyter": {
     "outputs_hidden": true
    }
   },
   "outputs": [],
   "source": [
    "# Coefficient of Variation\n",
    "stats.skew(X)"
   ]
  },
  {
   "cell_type": "markdown",
   "metadata": {},
   "source": [
    "N### - Kurtosis\n",
    "\n",
    "$$ K = \\frac{N(N+1}{(N-1)(N-2)(N-3)} \\sum_{i=1}^N  \\frac{(X_i - \\mu)^4}{\\sigma^4} $$"
   ]
  },
  {
   "cell_type": "code",
   "execution_count": null,
   "metadata": {
    "collapsed": true,
    "jupyter": {
     "outputs_hidden": true
    }
   },
   "outputs": [],
   "source": [
    "# Coefficient of Variation\n",
    "stats.kurtosis(X)"
   ]
  },
  {
   "cell_type": "markdown",
   "metadata": {},
   "source": [
    "<br>\n",
    "<hr>"
   ]
  },
  {
   "cell_type": "markdown",
   "metadata": {},
   "source": [
    "## 3. Bivariate Relationships\n",
    "\n",
    "### - Covariance\n",
    "\n",
    "$$Cov(X,Y) = \\frac{\\sum_{i=1}^N (X_i - \\mu_X) (Y_i - \\mu_Y)}{N}$$"
   ]
  },
  {
   "cell_type": "code",
   "execution_count": null,
   "metadata": {
    "collapsed": true,
    "jupyter": {
     "outputs_hidden": true
    }
   },
   "outputs": [],
   "source": [
    "# Covariance matrix\n",
    "np.cov(X,Y)"
   ]
  },
  {
   "cell_type": "markdown",
   "metadata": {},
   "source": [
    "### - Correlation\n",
    "\n",
    "$$r(X,Y) = \\frac{Cov(X,Y)}{std(X)std(Y)}$$"
   ]
  },
  {
   "cell_type": "code",
   "execution_count": null,
   "metadata": {
    "collapsed": true,
    "jupyter": {
     "outputs_hidden": true
    }
   },
   "outputs": [],
   "source": [
    "# Correlation matrix\n",
    "np.corrcoef(X, Y)"
   ]
  },
  {
   "cell_type": "markdown",
   "metadata": {},
   "source": [
    "### - Spearman Rank Correlation\n",
    "\n",
    "Instead of looking at the relationship between the two variables, we look at the relationship between the ranks. This is robust to outliers and the scale of the data. This is useful when your data sets may be in different units, and therefore not linearly related and for data sets which not satisfy the assumptions that other tests require, such as the observations being normally distributed as would be necessary for a t-test.\n",
    "\n",
    "$$r_S = 1 - \\frac{6 \\sum_{i=1}^n d_i^2}{n(n^2 - 1)}$$\n",
    "\n",
    "where $d_i$ is the difference between the ranks of the $i$th pair of observations, $X_i - Y_i$.\n"
   ]
  },
  {
   "cell_type": "code",
   "execution_count": null,
   "metadata": {
    "collapsed": true,
    "jupyter": {
     "outputs_hidden": true
    }
   },
   "outputs": [],
   "source": [
    "# Spearman Rank Correlation\n",
    "stats.spearmanr(X, Y)"
   ]
  },
  {
   "cell_type": "markdown",
   "metadata": {},
   "source": [
    "## 4. Linear Regression\n",
    "\n",
    "### - Linear Regression"
   ]
  },
  {
   "cell_type": "code",
   "execution_count": null,
   "metadata": {
    "collapsed": true,
    "jupyter": {
     "outputs_hidden": true
    }
   },
   "outputs": [],
   "source": [
    "# Our own function: Performs linear regression, prints details and plots the results.\n",
    "def linreg(X,Y):\n",
    "    # Running the linear regression\n",
    "    X = sm.add_constant(X)\n",
    "    model = regression.linear_model.OLS(Y, X).fit()\n",
    "    a = model.params[0]\n",
    "    b = model.params[1]\n",
    "    X = X[:, 1]\n",
    "\n",
    "    # Return summary of the regression and plot results\n",
    "    X2 = np.linspace(X.min(), X.max(), 100)\n",
    "    Y_hat = X2 * b + a\n",
    "    plt.figure(figsize=(12,8))\n",
    "    sns.regplot(X,Y, scatter_kws={'color':'red'})  \n",
    "    plt.xlabel('X')\n",
    "    plt.ylabel('Y')\n",
    "    plt.title('Linear Regression', size=15)\n",
    "    plt.show()\n",
    "    return model.summary()\n",
    "\n",
    "linreg(X,Y)"
   ]
  },
  {
   "cell_type": "code",
   "execution_count": null,
   "metadata": {
    "collapsed": true,
    "jupyter": {
     "outputs_hidden": true
    }
   },
   "outputs": [],
   "source": [
    "# Apply Linear Regression via scipy\n",
    "slope, intercept, r_value, p_value, std_err = stats.linregress(x = X, y = Y)\n",
    "\n",
    "# Apply Linear Regression via scikit\n",
    "# We need this reshape for scikit to work\n",
    "X_reshaped = X.reshape(len(X),1)       \n",
    "LinearRegression().fit(X_reshaped,Y)"
   ]
  }
 ],
 "metadata": {
  "kernelspec": {
   "display_name": "Python 3",
   "language": "python",
   "name": "python3"
  },
  "language_info": {
   "codemirror_mode": {
    "name": "ipython",
    "version": 3
   },
   "file_extension": ".py",
   "mimetype": "text/x-python",
   "name": "python",
   "nbconvert_exporter": "python",
   "pygments_lexer": "ipython3",
   "version": "3.7.3"
  }
 },
 "nbformat": 4,
 "nbformat_minor": 4
}
