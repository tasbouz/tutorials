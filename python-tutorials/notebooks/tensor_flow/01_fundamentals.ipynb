{
 "cells": [
  {
   "cell_type": "markdown",
   "metadata": {},
   "source": [
    "# Fundamentals\n",
    "\n",
    "**TensorFlow** is an open-source end-to-end machine learning library for preprocessing data, modelling data and serving models.Rather than building machine learning and deep learning models from scratch, tensorflow contains many of the most common machine learning functions one might need. \n",
    "\n",
    "While TensorFlow is vast, the main premise is simple: turn data into numbers (tensors) and build machine learning algorithms to find patterns in them."
   ]
  },
  {
   "cell_type": "code",
   "execution_count": 170,
   "metadata": {},
   "outputs": [
    {
     "name": "stdout",
     "output_type": "stream",
     "text": [
      "2.9.1\n"
     ]
    }
   ],
   "source": [
    "import numpy as np\n",
    "import tensorflow as tf\n",
    "print(tf.__version__)"
   ]
  },
  {
   "cell_type": "markdown",
   "metadata": {},
   "source": [
    "## tf.constant()\n",
    "\n",
    "In general, we won't create tensors ourselfs. This is because TensorFlow has modules built-in which are able to read data sources and automatically convert them to tensors and then later on, neural network models will process these for us. \n",
    "\n",
    "But for now, because we're getting familar with tensors themselves and how to manipulate them, we'll see how we can create them ourselves."
   ]
  },
  {
   "cell_type": "code",
   "execution_count": 46,
   "metadata": {},
   "outputs": [
    {
     "data": {
      "text/plain": [
       "<tf.Tensor: shape=(), dtype=int32, numpy=7>"
      ]
     },
     "execution_count": 46,
     "metadata": {},
     "output_type": "execute_result"
    }
   ],
   "source": [
    "# scalar constant (rank 0 tensor)\n",
    "scalar = tf.constant(7, name=\"scalar\", dtype=tf.int32) # default dtype: int32 or float32 datatype.\n",
    "scalar"
   ]
  },
  {
   "cell_type": "code",
   "execution_count": 49,
   "metadata": {},
   "outputs": [
    {
     "data": {
      "text/plain": [
       "<tf.Tensor: shape=(2,), dtype=float64, numpy=array([ 7., 10.])>"
      ]
     },
     "execution_count": 49,
     "metadata": {},
     "output_type": "execute_result"
    }
   ],
   "source": [
    "# vector constant (rank 1 tensor)\n",
    "vector = tf.constant([7.,10.], name=\"vector\", dtype=tf.float64)\n",
    "vector"
   ]
  },
  {
   "cell_type": "code",
   "execution_count": 64,
   "metadata": {},
   "outputs": [
    {
     "data": {
      "text/plain": [
       "<tf.Tensor: shape=(2, 2), dtype=int32, numpy=\n",
       "array([[ 7, 10],\n",
       "       [10,  7]], dtype=int32)>"
      ]
     },
     "execution_count": 64,
     "metadata": {},
     "output_type": "execute_result"
    }
   ],
   "source": [
    "# 2-D matrix constant (rank 2 tensor)\n",
    "matrix_2d = tf.constant([[7,10],\n",
    "                         [10,7]], name=\"2d_matrix\", dtype=tf.int32)\n",
    "matrix_2d"
   ]
  },
  {
   "cell_type": "code",
   "execution_count": 65,
   "metadata": {},
   "outputs": [
    {
     "data": {
      "text/plain": [
       "<tf.Tensor: shape=(2, 2, 2), dtype=int32, numpy=\n",
       "array([[[ 7, 10],\n",
       "        [10,  7]],\n",
       "\n",
       "       [[10,  7],\n",
       "        [ 7, 10]]], dtype=int32)>"
      ]
     },
     "execution_count": 65,
     "metadata": {},
     "output_type": "execute_result"
    }
   ],
   "source": [
    "# 3-D matrix constant (rank 3 tensor)\n",
    "matrix_3d = tf.constant([[[7,10],\n",
    "                          [10,7]],\n",
    "                         [[10,7],\n",
    "                          [7,10]]], name=\"3d_matrix\", dtype=tf.int32)\n",
    "matrix_3d"
   ]
  },
  {
   "cell_type": "markdown",
   "metadata": {
    "tags": []
   },
   "source": [
    "### Changing The Datatype Of A Tensor\n",
    "\n",
    "Sometimes we'll want to alter the default datatype of a tensor. This is common when we want to compute using less precision (e.g. 16-bit floating point numbers vs. 32-bit floating point numbers).\n",
    "\n",
    "Computing with less precision is useful on devices with less computing capacity such as mobile devices (because the less bits, the less space the computations require)."
   ]
  },
  {
   "cell_type": "code",
   "execution_count": 165,
   "metadata": {},
   "outputs": [
    {
     "data": {
      "text/plain": [
       "<tf.Tensor: shape=(), dtype=float32, numpy=2.0>"
      ]
     },
     "execution_count": 165,
     "metadata": {},
     "output_type": "execute_result"
    }
   ],
   "source": [
    "# Create a new tensor with default datatype (int32)\n",
    "scalar_float_32 = tf.cast(scalar, dtype=tf.float32)\n",
    "scalar_float_32"
   ]
  },
  {
   "cell_type": "markdown",
   "metadata": {},
   "source": [
    "### Tensor Attributes\n",
    "\n",
    "Tensors carry their own **attributes** like:\n",
    "* **Shape**: The length (number of elements) of each of the dimensions of a tensor.\n",
    "* **Rank**: The number of tensor dimensions.\n",
    "* **Axis or Dimension**: A particular dimension of a tensor.\n",
    "* **Size**: The total number of items in the tensor."
   ]
  },
  {
   "cell_type": "code",
   "execution_count": 136,
   "metadata": {},
   "outputs": [
    {
     "name": "stdout",
     "output_type": "stream",
     "text": [
      "Datatype of every element: <dtype: 'int32'>\n",
      "Number of dimensions (rank): 3\n",
      "Shape of tensor: (2, 2, 2)\n",
      "Total number of elements (2*2*2): tf.Tensor(8, shape=(), dtype=int32)\n"
     ]
    }
   ],
   "source": [
    "# various tensor attributes\n",
    "print(\"Datatype of every element:\", matrix_3d.dtype)\n",
    "print(\"Number of dimensions (rank):\", matrix_3d.ndim)\n",
    "print(\"Shape of tensor:\", matrix_3d.shape)\n",
    "print(\"Total number of elements (2*2*2):\", tf.size(matrix_3d).numpy()) # .numpy() converts to NumPy array"
   ]
  },
  {
   "cell_type": "markdown",
   "metadata": {},
   "source": [
    "We can **index** tensors just like Python lists."
   ]
  },
  {
   "cell_type": "code",
   "execution_count": 149,
   "metadata": {},
   "outputs": [
    {
     "data": {
      "text/plain": [
       "<tf.Tensor: shape=(2, 1), dtype=int32, numpy=\n",
       "array([[10],\n",
       "       [ 7]], dtype=int32)>"
      ]
     },
     "execution_count": 149,
     "metadata": {},
     "output_type": "execute_result"
    }
   ],
   "source": [
    "# indexing a tensor\n",
    "matrix_3d[1, 0:, :1]"
   ]
  },
  {
   "cell_type": "markdown",
   "metadata": {
    "tags": []
   },
   "source": [
    "### Other Ways To Create Tensors\n",
    "\n",
    "There are some other ways to create constant tensors."
   ]
  },
  {
   "cell_type": "code",
   "execution_count": 71,
   "metadata": {},
   "outputs": [
    {
     "data": {
      "text/plain": [
       "(<tf.Tensor: shape=(2, 3), dtype=float32, numpy=\n",
       " array([[0., 0., 0.],\n",
       "        [0., 0., 0.]], dtype=float32)>,\n",
       " <tf.Tensor: shape=(3, 2), dtype=float32, numpy=\n",
       " array([[1., 1.],\n",
       "        [1., 1.],\n",
       "        [1., 1.]], dtype=float32)>)"
      ]
     },
     "execution_count": 71,
     "metadata": {},
     "output_type": "execute_result"
    }
   ],
   "source": [
    "# a tensor of given dimensions full with 0's and 1's!\n",
    "zeros = tf.zeros((2, 3))   \n",
    "ones = tf.ones((3,2))\n",
    "zeros, ones"
   ]
  },
  {
   "cell_type": "code",
   "execution_count": 150,
   "metadata": {},
   "outputs": [
    {
     "data": {
      "text/plain": [
       "(<tf.Tensor: shape=(2, 3), dtype=int32, numpy=\n",
       " array([[7, 7, 7],\n",
       "        [7, 7, 7]], dtype=int32)>,\n",
       " <tf.Tensor: shape=(3, 2), dtype=int32, numpy=\n",
       " array([[10, 10],\n",
       "        [10, 10],\n",
       "        [10, 10]], dtype=int32)>)"
      ]
     },
     "execution_count": 150,
     "metadata": {},
     "output_type": "execute_result"
    }
   ],
   "source": [
    "# general form\n",
    "sevens = tf.fill(dims = (2, 3), value = 7)\n",
    "tens = tf.fill(dims = (3, 2), value = 10)\n",
    "sevens, tens"
   ]
  },
  {
   "cell_type": "code",
   "execution_count": 126,
   "metadata": {},
   "outputs": [
    {
     "data": {
      "text/plain": [
       "<tf.Tensor: shape=(5,), dtype=int32, numpy=array([ 3,  6,  9, 12, 15], dtype=int32)>"
      ]
     },
     "execution_count": 126,
     "metadata": {},
     "output_type": "execute_result"
    }
   ],
   "source": [
    "# range (limit is not included)\n",
    "ran = tf.range(start = 3, limit=18, delta=3)\n",
    "ran"
   ]
  },
  {
   "cell_type": "code",
   "execution_count": 127,
   "metadata": {},
   "outputs": [
    {
     "data": {
      "text/plain": [
       "<tf.Tensor: shape=(4,), dtype=float32, numpy=array([10., 11., 12., 13.], dtype=float32)>"
      ]
     },
     "execution_count": 127,
     "metadata": {},
     "output_type": "execute_result"
    }
   ],
   "source": [
    "# sequence of numbers\n",
    "linspace = tf.linspace(start = 10.0, stop = 13.0, num = 4)\n",
    "linspace"
   ]
  },
  {
   "cell_type": "markdown",
   "metadata": {
    "tags": []
   },
   "source": [
    "### Tensor Operations\n",
    "\n",
    "We can perform many of the basic mathematical operations directly on tensors using Pyhton operators. (Since we used tf.constant(), the original tensor is unchanged (the addition gets done on a copy)."
   ]
  },
  {
   "cell_type": "code",
   "execution_count": 128,
   "metadata": {},
   "outputs": [
    {
     "data": {
      "text/plain": [
       "(<tf.Tensor: shape=(2, 2), dtype=int32, numpy=\n",
       " array([[20, 17],\n",
       "        [13, 14]], dtype=int32)>,\n",
       " <tf.Tensor: shape=(2, 2), dtype=int32, numpy=\n",
       " array([[100,  70],\n",
       "        [ 30,  40]], dtype=int32)>,\n",
       " <tf.Tensor: shape=(2, 2), dtype=int32, numpy=\n",
       " array([[ 0, -3],\n",
       "        [-7, -6]], dtype=int32)>,\n",
       " <tf.Tensor: shape=(2, 2), dtype=float64, numpy=\n",
       " array([[1. , 0.7],\n",
       "        [0.3, 0.4]])>)"
      ]
     },
     "execution_count": 128,
     "metadata": {},
     "output_type": "execute_result"
    }
   ],
   "source": [
    "# we can operate with values to a tensor using the corresponding operator\n",
    "tensor = tf.constant([[10, 7], \n",
    "                      [3, 4]])\n",
    "\n",
    "tensor + 10, tensor * 10, tensor - 10, tensor /10"
   ]
  },
  {
   "cell_type": "markdown",
   "metadata": {},
   "source": [
    "We can also use the following function for the basic operations."
   ]
  },
  {
   "cell_type": "code",
   "execution_count": 159,
   "metadata": {},
   "outputs": [
    {
     "data": {
      "text/plain": [
       "(<tf.Tensor: shape=(1, 2), dtype=int32, numpy=array([[5, 8]], dtype=int32)>,\n",
       " <tf.Tensor: shape=(1, 2), dtype=int32, numpy=array([[ 6, 12]], dtype=int32)>,\n",
       " <tf.Tensor: shape=(1, 1), dtype=int32, numpy=array([[18]], dtype=int32)>,\n",
       " <tf.Tensor: shape=(1, 2), dtype=float64, numpy=array([[1.5, 3. ]])>,\n",
       " <tf.Tensor: shape=(1, 2), dtype=int32, numpy=array([[ 9, 36]], dtype=int32)>)"
      ]
     },
     "execution_count": 159,
     "metadata": {},
     "output_type": "execute_result"
    }
   ],
   "source": [
    "a = tf.constant([[3, 6]])\n",
    "b = tf.constant([[2, 2]])\n",
    "\n",
    "# element wise addition\n",
    "addition = tf.add(a,b)\n",
    "\n",
    "# element wise multiplication\n",
    "multiplication = tf.multiply(a,b)\n",
    "\n",
    "# matrix multiplication (reshaping needed)\n",
    "matrix_multiplication = tf.matmul(tf.reshape(a, [1, 2]), tf.reshape(b, [2, 1]))\n",
    "\n",
    "# element wise division\n",
    "division = tf.divide(a, b)\n",
    "\n",
    "# element wise rise to power\n",
    "power = tf.pow(a,b)\n",
    "\n",
    "addition, multiplication, matrix_multiplication, division, power"
   ]
  },
  {
   "cell_type": "markdown",
   "metadata": {},
   "source": [
    "Some more basic operation functions."
   ]
  },
  {
   "cell_type": "code",
   "execution_count": 168,
   "metadata": {},
   "outputs": [
    {
     "data": {
      "text/plain": [
       "(<tf.Tensor: shape=(1, 2), dtype=int32, numpy=array([[ 9, 36]], dtype=int32)>,\n",
       " <tf.Tensor: shape=(1, 2), dtype=float32, numpy=array([[1.7320508, 2.4494898]], dtype=float32)>,\n",
       " <tf.Tensor: shape=(1, 2), dtype=float32, numpy=array([[1.0986123, 1.7917595]], dtype=float32)>,\n",
       " <tf.Tensor: shape=(1, 2), dtype=int32, numpy=array([[3, 6]], dtype=int32)>,\n",
       " <tf.Tensor: shape=(), dtype=int32, numpy=3>,\n",
       " <tf.Tensor: shape=(2,), dtype=int64, numpy=array([0, 0])>,\n",
       " <tf.Tensor: shape=(), dtype=int32, numpy=6>,\n",
       " <tf.Tensor: shape=(2,), dtype=int64, numpy=array([0, 0])>,\n",
       " <tf.Tensor: shape=(), dtype=int32, numpy=4>,\n",
       " <tf.Tensor: shape=(), dtype=int32, numpy=9>)"
      ]
     },
     "execution_count": 168,
     "metadata": {},
     "output_type": "execute_result"
    }
   ],
   "source": [
    "# square\n",
    "square = tf.square(a)\n",
    "\n",
    "# square root\n",
    "sqrt = tf.sqrt(tf.cast(a, tf.float32))\n",
    "\n",
    "# log\n",
    "log = tf.math.log(tf.cast(a, tf.float32))\n",
    "\n",
    "# absolute values\n",
    "absolute_value = tf.abs(a)\n",
    "\n",
    "# find the minimum\n",
    "reduce_min = tf.reduce_min(a)\n",
    "\n",
    "# find the minimum element position\n",
    "argmin = tf.argmin(a)\n",
    "\n",
    "# find the maximum\n",
    "reduce_max = tf.reduce_max(a)\n",
    "\n",
    "# find the maximum element position\n",
    "argmax = tf.argmax(a)\n",
    "\n",
    "# find the mean\n",
    "reduce_mean = tf.reduce_mean(a)\n",
    "\n",
    "# find the sum\n",
    "reduce_sum = tf.reduce_sum(a)\n",
    "\n",
    "square, sqrt, log, absolute_value, reduce_min, argmin, reduce_max, argmax, reduce_mean, reduce_sum"
   ]
  },
  {
   "cell_type": "markdown",
   "metadata": {},
   "source": [
    "If you have a tensor of indicies and would like to **one-hot encode** it, you can use tf.one_hot(). You should also specify the depth parameter (the level which you want to one-hot encode to)."
   ]
  },
  {
   "cell_type": "code",
   "execution_count": 163,
   "metadata": {},
   "outputs": [
    {
     "data": {
      "text/plain": [
       "<tf.Tensor: shape=(4, 4), dtype=float32, numpy=\n",
       "array([[1., 0., 0., 0.],\n",
       "       [0., 1., 0., 0.],\n",
       "       [0., 0., 1., 0.],\n",
       "       [0., 0., 0., 1.]], dtype=float32)>"
      ]
     },
     "execution_count": 163,
     "metadata": {},
     "output_type": "execute_result"
    }
   ],
   "source": [
    "some_list = [0, 1, 2, 3]\n",
    "\n",
    "# one hot encodingb\n",
    "tf.one_hot(some_list, depth=4)"
   ]
  },
  {
   "cell_type": "markdown",
   "metadata": {},
   "source": [
    "If you need to remove single-dimensions from a tensor (dimensions with size 1), we can use **squeeze** it, i.e  remove all dimensions of 1 from a tensor."
   ]
  },
  {
   "cell_type": "code",
   "execution_count": 172,
   "metadata": {},
   "outputs": [
    {
     "data": {
      "text/plain": [
       "<tf.Tensor: shape=(1, 1, 1, 1, 50), dtype=int64, numpy=\n",
       "array([[[[[88, 37, 20, 20, 24, 49, 45, 89, 73, 77, 56, 13, 97, 55, 12,\n",
       "           65, 90,  4, 97, 18, 26,  9, 73, 11,  4, 66, 28, 43, 33, 77,\n",
       "            6, 42,  1, 97,  7, 25, 98, 78,  6, 15, 29, 84, 89, 40, 58,\n",
       "           38,  7, 42, 60, 73]]]]])>"
      ]
     },
     "execution_count": 172,
     "metadata": {},
     "output_type": "execute_result"
    }
   ],
   "source": [
    "c = tf.constant(np.random.randint(0, 100, 50), shape=(1, 1, 1, 1, 50))\n",
    "c"
   ]
  },
  {
   "cell_type": "code",
   "execution_count": 173,
   "metadata": {},
   "outputs": [
    {
     "data": {
      "text/plain": [
       "<tf.Tensor: shape=(50,), dtype=int64, numpy=\n",
       "array([88, 37, 20, 20, 24, 49, 45, 89, 73, 77, 56, 13, 97, 55, 12, 65, 90,\n",
       "        4, 97, 18, 26,  9, 73, 11,  4, 66, 28, 43, 33, 77,  6, 42,  1, 97,\n",
       "        7, 25, 98, 78,  6, 15, 29, 84, 89, 40, 58, 38,  7, 42, 60, 73])>"
      ]
     },
     "execution_count": 173,
     "metadata": {},
     "output_type": "execute_result"
    }
   ],
   "source": [
    "# squeeze tensor (remove all 1 dimensions)\n",
    "c_squeezed = tf.squeeze(c)\n",
    "c_squeezed"
   ]
  },
  {
   "cell_type": "markdown",
   "metadata": {},
   "source": [
    "## tf.Variable()\n",
    "\n",
    "The difference between **tf.Variable()** and **tf.constant()** is tensors created with tf.constant() are immutable (can't be changed, can only be used to create a new tensor), where as, tensors created with tf.Variable() are mutable (can be changed)."
   ]
  },
  {
   "cell_type": "code",
   "execution_count": 87,
   "metadata": {
    "tags": []
   },
   "outputs": [],
   "source": [
    "# scalar variable\n",
    "scalar = tf.Variable(2, name=\"scalar\")\n",
    "\n",
    "# vector variable\n",
    "vector = tf.Variable([2, 3], name=\"vector\")\n",
    "\n",
    "# matrix variable\n",
    "matrix = tf.Variable([\n",
    "    [0, 1], \n",
    "    [2, 3]\n",
    "], name=\"matrix\")"
   ]
  },
  {
   "cell_type": "markdown",
   "metadata": {},
   "source": [
    "To change an element of a tf.Variable() tensor requires the assign() method."
   ]
  },
  {
   "cell_type": "code",
   "execution_count": 42,
   "metadata": {},
   "outputs": [
    {
     "data": {
      "text/plain": [
       "<tf.Variable 'scalar:0' shape=() dtype=int32, numpy=3>"
      ]
     },
     "execution_count": 42,
     "metadata": {},
     "output_type": "execute_result"
    }
   ],
   "source": [
    "# assign operation\n",
    "scalar.assign(3)"
   ]
  },
  {
   "cell_type": "markdown",
   "metadata": {},
   "source": [
    "## tf.random()\n",
    "\n",
    "Random tensors are tensors of some abitrary size which contain random numbers. This is what neural networks use to intialize their weights that they're trying to learn in the data."
   ]
  },
  {
   "cell_type": "code",
   "execution_count": 116,
   "metadata": {},
   "outputs": [],
   "source": [
    "# global level seed (for reproducibility)\n",
    "tf.random.set_seed(42)"
   ]
  },
  {
   "cell_type": "code",
   "execution_count": 125,
   "metadata": {
    "tags": []
   },
   "outputs": [],
   "source": [
    "# random tensor generator (local level seed)\n",
    "random_tensor = tf.random.Generator.from_seed(42)"
   ]
  },
  {
   "cell_type": "code",
   "execution_count": 118,
   "metadata": {},
   "outputs": [
    {
     "data": {
      "text/plain": [
       "<tf.Tensor: shape=(3, 2), dtype=float32, numpy=\n",
       "array([[0.7493447 , 0.73561966],\n",
       "       [0.45230794, 0.49039817],\n",
       "       [0.1889317 , 0.52027524]], dtype=float32)>"
      ]
     },
     "execution_count": 118,
     "metadata": {},
     "output_type": "execute_result"
    }
   ],
   "source": [
    "# random tensor from uniform distribution\n",
    "random_tensor_uniform = random_tensor.uniform(shape=(3,2))\n",
    "random_tensor_uniform"
   ]
  },
  {
   "cell_type": "code",
   "execution_count": 119,
   "metadata": {},
   "outputs": [
    {
     "data": {
      "text/plain": [
       "<tf.Tensor: shape=(2, 3), dtype=float32, numpy=\n",
       "array([[ 0.17522676,  0.71105534,  0.54882437],\n",
       "       [ 0.14896014, -0.54757965,  0.61634356]], dtype=float32)>"
      ]
     },
     "execution_count": 119,
     "metadata": {},
     "output_type": "execute_result"
    }
   ],
   "source": [
    "# random tensor from normal distribution\n",
    "random_tensor_normal = random_tensor.normal(shape=(2,3))\n",
    "random_tensor_normal"
   ]
  },
  {
   "cell_type": "markdown",
   "metadata": {},
   "source": [
    "Random can also shuffle a tensor."
   ]
  },
  {
   "cell_type": "code",
   "execution_count": 124,
   "metadata": {},
   "outputs": [
    {
     "data": {
      "text/plain": [
       "<tf.Tensor: shape=(3, 2), dtype=int32, numpy=\n",
       "array([[ 7, 10],\n",
       "       [ 5,  4],\n",
       "       [ 2,  3]], dtype=int32)>"
      ]
     },
     "execution_count": 124,
     "metadata": {},
     "output_type": "execute_result"
    }
   ],
   "source": [
    "# randomly shuffle a tensor\n",
    "tensor = tf.constant([[7,10], [2,3], [5,4]])\n",
    "tf.random.shuffle(tensor)"
   ]
  }
 ],
 "metadata": {
  "kernelspec": {
   "display_name": "Python 3 (ipykernel)",
   "language": "python",
   "name": "python3"
  },
  "language_info": {
   "codemirror_mode": {
    "name": "ipython",
    "version": 3
   },
   "file_extension": ".py",
   "mimetype": "text/x-python",
   "name": "python",
   "nbconvert_exporter": "python",
   "pygments_lexer": "ipython3",
   "version": "3.10.4"
  },
  "toc-autonumbering": true,
  "toc-showcode": false,
  "toc-showmarkdowntxt": false
 },
 "nbformat": 4,
 "nbformat_minor": 4
}
