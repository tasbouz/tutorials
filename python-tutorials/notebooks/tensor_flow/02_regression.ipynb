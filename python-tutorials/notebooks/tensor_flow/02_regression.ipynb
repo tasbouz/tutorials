{
 "cells": [
  {
   "cell_type": "markdown",
   "id": "ecd16c69-9c46-4e86-9656-edcadf25971b",
   "metadata": {},
   "source": [
    "# Regression\n",
    "\n",
    "In this notebook, we're going to set the foundations for how we can take a sample of inputs (data), build a neural network to discover patterns in those inputs and then make a prediction (in the form of a number) based on those inputs.\n",
    "\n",
    "Although there are many different architectures of a regresison neural network, the following list is a generic neural network architecture that we will see over and over: **Input layer shape**, **Hidden layer(s)**, **Neurons per hidden layer**, **Output layer shape**, **Hidden activation**, **Output activation**, **Loss function**, and **Optimizer**. Out of all of these components, one of the most important concepts when working with neural networks are the **input and output shapes**, being the shape of the data that goes into the model and the shape of the data we want to come out of the model respectively. These will differ depending on the problem. Making sure the input and outputs are in the correct shape is vital.\n",
    "\n",
    "In TensorFlow, there are typically 5 **fundamental steps to creating and training a model**.\n",
    "\n",
    "1. **Create The Model:** Piece together the layers of a neural network (using the Functional or Sequential API) or import a previously built model (transfer learning).\n",
    "2. **Compile The Model:** Define all the important concepts of the network.\n",
    "    1. **Loss:** How wrong your model's predictions are compared to the truth labels (you want to minimise this).\n",
    "    2. **Optimizer:** How your model should update its internal patterns to better its predictions.\n",
    "    3. **Metrics:** Human interpretable values for how well your model is doing.\n",
    "3. **Fit The Model:** Let the model try to find patterns in the data by iterating over epochs (how many times the model will go through all of the training examples).\n",
    "4. **Evaluate The Model:** Evaluate the performance of the model based on the metrics.\n",
    "5. **Improve The Model:** Iterate over the 4 first steps by making small adjustments in order to improve the model. Most common ways to improve a deep model are: **Add layers**, **Improve the number of hidden units**, **Change the activation function**, **Change the optimization function**, **Change the learning rate**, **Fit on more data** and **Fit for longer**."
   ]
  },
  {
   "cell_type": "code",
   "execution_count": 114,
   "id": "4c8e0868-09fe-42ed-afdf-e8e21cbec15d",
   "metadata": {},
   "outputs": [],
   "source": [
    "import random\n",
    "import numpy as np\n",
    "import pandas as pd\n",
    "import matplotlib.pyplot as plt\n",
    "import tensorflow as tf\n",
    "from tensorflow.keras.utils import plot_model\n",
    "from tensorflow.keras.datasets import fashion_mnist\n",
    "from sklearn.model_selection import train_test_split\n",
    "from sklearn.compose import make_column_transformer\n",
    "from sklearn.preprocessing import MinMaxScaler, OneHotEncoder\n",
    "from utilities1 import classification_evaluation"
   ]
  },
  {
   "cell_type": "code",
   "execution_count": 2,
   "id": "b95b2d9c-1acb-4b4f-a49a-0c6c6371fe99",
   "metadata": {},
   "outputs": [],
   "source": [
    "# reproducibility\n",
    "tf.random.set_seed(42)"
   ]
  },
  {
   "cell_type": "markdown",
   "id": "9764d357-47f4-4870-9f2f-9403efac1713",
   "metadata": {},
   "source": [
    "## Linear Regression"
   ]
  },
  {
   "cell_type": "markdown",
   "id": "e331df2b-f299-4b3c-a27f-582649343633",
   "metadata": {},
   "source": [
    "### Data\n",
    "\n",
    "Let's start by loading the dataset for linear regression."
   ]
  },
  {
   "cell_type": "code",
   "execution_count": 5,
   "id": "6dd52203-947c-4197-bbb6-ce33aa5566ac",
   "metadata": {},
   "outputs": [
    {
     "data": {
      "text/html": [
       "<div>\n",
       "<style scoped>\n",
       "    .dataframe tbody tr th:only-of-type {\n",
       "        vertical-align: middle;\n",
       "    }\n",
       "\n",
       "    .dataframe tbody tr th {\n",
       "        vertical-align: top;\n",
       "    }\n",
       "\n",
       "    .dataframe thead th {\n",
       "        text-align: right;\n",
       "    }\n",
       "</style>\n",
       "<table border=\"1\" class=\"dataframe\">\n",
       "  <thead>\n",
       "    <tr style=\"text-align: right;\">\n",
       "      <th></th>\n",
       "      <th>age</th>\n",
       "      <th>sex</th>\n",
       "      <th>bmi</th>\n",
       "      <th>children</th>\n",
       "      <th>smoker</th>\n",
       "      <th>region</th>\n",
       "      <th>charges</th>\n",
       "    </tr>\n",
       "  </thead>\n",
       "  <tbody>\n",
       "    <tr>\n",
       "      <th>0</th>\n",
       "      <td>19</td>\n",
       "      <td>female</td>\n",
       "      <td>27.900</td>\n",
       "      <td>0</td>\n",
       "      <td>yes</td>\n",
       "      <td>southwest</td>\n",
       "      <td>16884.92400</td>\n",
       "    </tr>\n",
       "    <tr>\n",
       "      <th>1</th>\n",
       "      <td>18</td>\n",
       "      <td>male</td>\n",
       "      <td>33.770</td>\n",
       "      <td>1</td>\n",
       "      <td>no</td>\n",
       "      <td>southeast</td>\n",
       "      <td>1725.55230</td>\n",
       "    </tr>\n",
       "    <tr>\n",
       "      <th>2</th>\n",
       "      <td>28</td>\n",
       "      <td>male</td>\n",
       "      <td>33.000</td>\n",
       "      <td>3</td>\n",
       "      <td>no</td>\n",
       "      <td>southeast</td>\n",
       "      <td>4449.46200</td>\n",
       "    </tr>\n",
       "    <tr>\n",
       "      <th>3</th>\n",
       "      <td>33</td>\n",
       "      <td>male</td>\n",
       "      <td>22.705</td>\n",
       "      <td>0</td>\n",
       "      <td>no</td>\n",
       "      <td>northwest</td>\n",
       "      <td>21984.47061</td>\n",
       "    </tr>\n",
       "    <tr>\n",
       "      <th>4</th>\n",
       "      <td>32</td>\n",
       "      <td>male</td>\n",
       "      <td>28.880</td>\n",
       "      <td>0</td>\n",
       "      <td>no</td>\n",
       "      <td>northwest</td>\n",
       "      <td>3866.85520</td>\n",
       "    </tr>\n",
       "  </tbody>\n",
       "</table>\n",
       "</div>"
      ],
      "text/plain": [
       "   age     sex     bmi  children smoker     region      charges\n",
       "0   19  female  27.900         0    yes  southwest  16884.92400\n",
       "1   18    male  33.770         1     no  southeast   1725.55230\n",
       "2   28    male  33.000         3     no  southeast   4449.46200\n",
       "3   33    male  22.705         0     no  northwest  21984.47061\n",
       "4   32    male  28.880         0     no  northwest   3866.85520"
      ]
     },
     "execution_count": 5,
     "metadata": {},
     "output_type": "execute_result"
    }
   ],
   "source": [
    "insurance_df = pd.read_csv(\"data/insurance.csv\")\n",
    "insurance_df.head()"
   ]
  },
  {
   "cell_type": "markdown",
   "id": "af4be56f-9f41-4434-9966-9e6cb2418d30",
   "metadata": {},
   "source": [
    "Now let's split into features and targets and then into training and test datasets."
   ]
  },
  {
   "cell_type": "code",
   "execution_count": 6,
   "id": "cf60a9bf-6e10-47c8-b840-1acb1eb921b3",
   "metadata": {},
   "outputs": [
    {
     "data": {
      "text/plain": [
       "((1070, 6), (268, 6), (1070,), (268,))"
      ]
     },
     "execution_count": 6,
     "metadata": {},
     "output_type": "execute_result"
    }
   ],
   "source": [
    "# features and target\n",
    "X = insurance_df.drop(\"charges\", axis=1)\n",
    "y = insurance_df.charges\n",
    "\n",
    "# split in train and test dataset\n",
    "X_train, X_test, y_train, y_test = train_test_split(X, y, test_size=0.2, random_state=42)\n",
    "\n",
    "X_train.shape, X_test.shape, y_train.shape, y_test.shape"
   ]
  },
  {
   "cell_type": "markdown",
   "id": "5e3508ed-1b3f-4e36-a673-d1e6b4c62a3f",
   "metadata": {},
   "source": [
    "Finally, before moving on to modeling, let's preprocess the data in order to make them valid for deep learning models."
   ]
  },
  {
   "cell_type": "code",
   "execution_count": 7,
   "id": "0399ae9c-73e5-48f5-b02f-e30d8321f7d8",
   "metadata": {},
   "outputs": [
    {
     "data": {
      "text/plain": [
       "((1070, 11), (268, 11), (1070,), (268,))"
      ]
     },
     "execution_count": 7,
     "metadata": {},
     "output_type": "execute_result"
    }
   ],
   "source": [
    "# preprocessing data pipeline\n",
    "column_transformer = make_column_transformer(\n",
    "    (MinMaxScaler(), [\"age\", \"bmi\", \"children\"]), # normalization\n",
    "    (OneHotEncoder(handle_unknown=\"ignore\"), [\"sex\", \"smoker\", \"region\"]) # one hot encoding\n",
    ")\n",
    "\n",
    "# fit the X_train data\n",
    "column_transformer.fit(X_train)\n",
    "\n",
    "# transform both X_train and X_test\n",
    "X_train = column_transformer.transform(X_train)\n",
    "X_test = column_transformer.transform(X_test)\n",
    "\n",
    "X_train.shape, X_test.shape, y_train.shape, y_test.shape"
   ]
  },
  {
   "cell_type": "markdown",
   "id": "9e58e2f5-60f4-4f26-b11e-3e368217f0d3",
   "metadata": {},
   "source": [
    "### Models\n",
    "\n",
    "Now let's go over the 5 fundamental steps:\n",
    "1. **Create The Model**\n",
    "2. **Compile The Model**\n",
    "3. **Fit The Model**\n",
    "4. **Evaluate The Model** \n",
    "5. **Improve The Model**"
   ]
  },
  {
   "cell_type": "code",
   "execution_count": 9,
   "id": "73c7df9d-f6e0-420d-9041-a0b183a5f1d7",
   "metadata": {},
   "outputs": [
    {
     "name": "stdout",
     "output_type": "stream",
     "text": [
      "Epoch 1/5\n",
      "34/34 [==============================] - 0s 2ms/step - loss: 13344.8398 - mae: 13344.8398 - val_loss: 12966.6074 - val_mae: 12966.6074\n",
      "Epoch 2/5\n",
      "34/34 [==============================] - 0s 729us/step - loss: 13343.8760 - mae: 13343.8760 - val_loss: 12965.6396 - val_mae: 12965.6396\n",
      "Epoch 3/5\n",
      "34/34 [==============================] - 0s 684us/step - loss: 13342.9072 - mae: 13342.9072 - val_loss: 12964.6758 - val_mae: 12964.6758\n",
      "Epoch 4/5\n",
      "34/34 [==============================] - 0s 624us/step - loss: 13341.9414 - mae: 13341.9414 - val_loss: 12963.7119 - val_mae: 12963.7119\n",
      "Epoch 5/5\n",
      "34/34 [==============================] - 0s 633us/step - loss: 13340.9736 - mae: 13340.9736 - val_loss: 12962.7441 - val_mae: 12962.7441\n"
     ]
    }
   ],
   "source": [
    "# 1. Create The Model\n",
    "model_1 = tf.keras.Sequential([\n",
    "    tf.keras.layers.Dense(1)\n",
    "])\n",
    "\n",
    "# 2. Compile The Model\n",
    "model_1.compile(loss=tf.keras.losses.mae,\n",
    "                optimizer=tf.keras.optimizers.SGD(),\n",
    "                metrics=[\"mae\"])\n",
    "\n",
    "# 3. Fit The Model\n",
    "history_1 = model_1.fit(X_train, y_train, epochs=5, validation_data=(X_test,y_test))"
   ]
  },
  {
   "cell_type": "markdown",
   "id": "3c14a19a-a3a1-415c-8c20-b6c8d0ae0eae",
   "metadata": {},
   "source": [
    "The process of step **4. Evaluate The Model** is not really automated and it contains a multiple of steps depending on the problem. Here I will introduce some very basic steps one can perform."
   ]
  },
  {
   "cell_type": "code",
   "execution_count": 10,
   "id": "4b10ae50-1e01-42b6-88c4-27b23d32fda8",
   "metadata": {},
   "outputs": [
    {
     "name": "stdout",
     "output_type": "stream",
     "text": [
      "Model: \"sequential_1\"\n",
      "_________________________________________________________________\n",
      " Layer (type)                Output Shape              Param #   \n",
      "=================================================================\n",
      " dense_1 (Dense)             (None, 1)                 12        \n",
      "                                                                 \n",
      "=================================================================\n",
      "Total params: 12\n",
      "Trainable params: 12\n",
      "Non-trainable params: 0\n",
      "_________________________________________________________________\n"
     ]
    }
   ],
   "source": [
    "# summary of the model\n",
    "model_1.summary()"
   ]
  },
  {
   "cell_type": "code",
   "execution_count": 11,
   "id": "bcd735b5-7752-4bad-8afb-ede7d013caa6",
   "metadata": {},
   "outputs": [
    {
     "data": {
      "image/png": "[encoded data removed]",
      "text/plain": [
       "<IPython.core.display.Image object>"
      ]
     },
     "execution_count": 11,
     "metadata": {},
     "output_type": "execute_result"
    }
   ],
   "source": [
    "# architecture of the model\n",
    "plot_model(model_1, show_shapes=True)"
   ]
  },
  {
   "cell_type": "code",
   "execution_count": 12,
   "id": "1b6f5fa2-8020-4580-8f6e-08559a5ef704",
   "metadata": {},
   "outputs": [],
   "source": [
    "def plot(history):\n",
    "    pd.DataFrame(history.history).plot(title=\"Metrics\", xlabel='Epoch', ylabel='Metric')\n",
    "    plt.show()"
   ]
  },
  {
   "cell_type": "code",
   "execution_count": 13,
   "id": "f4226935-3484-4283-b96d-18bbf5a2bac4",
   "metadata": {},
   "outputs": [
    {
     "data": {
      "image/png": "[encoded data removed]",
      "text/plain": [
       "<Figure size 432x288 with 1 Axes>"
      ]
     },
     "metadata": {
      "needs_background": "light"
     },
     "output_type": "display_data"
    }
   ],
   "source": [
    "plot(history_1)"
   ]
  },
  {
   "cell_type": "markdown",
   "id": "f038213b-43f3-47f4-bec2-508b3cf2533d",
   "metadata": {},
   "source": [
    "Moving on to fifth and final step **5. Improve The Model**, we will try to make improvements to the model by making small adjustments to the model. \n",
    "\n",
    "Let's start by training the model for longer, i.e increase the number of epochs."
   ]
  },
  {
   "cell_type": "code",
   "execution_count": 14,
   "id": "25f70cb4",
   "metadata": {
    "tags": []
   },
   "outputs": [
    {
     "name": "stdout",
     "output_type": "stream",
     "text": [
      "9/9 [==============================] - 0s 361us/step - loss: 12872.2129 - mae: 12872.2129\n"
     ]
    },
    {
     "data": {
      "text/plain": [
       "[12872.212890625, 12872.212890625]"
      ]
     },
     "execution_count": 14,
     "metadata": {},
     "output_type": "execute_result"
    }
   ],
   "source": [
    "# 1. Create The Model\n",
    "model_2 = tf.keras.Sequential([\n",
    "    tf.keras.layers.Dense(1)\n",
    "])\n",
    "\n",
    "# 2. Compile The Model\n",
    "model_2.compile(loss=tf.keras.losses.mae,\n",
    "              optimizer=tf.keras.optimizers.SGD(),\n",
    "              metrics=[\"mae\"])\n",
    "\n",
    "# 3. Fit The Model\n",
    "history_2 = model_2.fit(X_train, y_train, epochs=100, verbose=0, validation_data=(X_test, y_test))\n",
    "\n",
    "# 4. Evaluate The Model\n",
    "model_2.evaluate(X_test, y_test)"
   ]
  },
  {
   "cell_type": "markdown",
   "id": "b6fe5d6b-1156-45d9-9b13-747b8e689b4f",
   "metadata": {},
   "source": [
    "Moving on to **4. Evaluate The Model** let's take a look again to the various metrics."
   ]
  },
  {
   "cell_type": "code",
   "execution_count": 15,
   "id": "c2661eb6-0ce3-471e-a465-a1251506495c",
   "metadata": {},
   "outputs": [
    {
     "data": {
      "image/png": "[encoded data removed]",
      "text/plain": [
       "<Figure size 432x288 with 1 Axes>"
      ]
     },
     "metadata": {
      "needs_background": "light"
     },
     "output_type": "display_data"
    }
   ],
   "source": [
    "# plot model metrics\n",
    "plot(history_2)"
   ]
  },
  {
   "cell_type": "markdown",
   "id": "199313a1-de60-4a21-b1c4-df77ecabd668",
   "metadata": {},
   "source": [
    "It looks like training for longer improved the model. Now let's again move on to **5. Improve The Model** step by running another experiment in which we will add an extra layer with one hidden unit increasing the epochs to 500. "
   ]
  },
  {
   "cell_type": "code",
   "execution_count": 16,
   "id": "69c111f0-d999-40b6-b1c3-3eec37f985fe",
   "metadata": {
    "tags": []
   },
   "outputs": [
    {
     "name": "stdout",
     "output_type": "stream",
     "text": [
      "9/9 [==============================] - 0s 340us/step - loss: 3166.3899 - mae: 3166.3899\n"
     ]
    },
    {
     "data": {
      "text/plain": [
       "[3166.389892578125, 3166.389892578125]"
      ]
     },
     "execution_count": 16,
     "metadata": {},
     "output_type": "execute_result"
    }
   ],
   "source": [
    "# 1. Create The Model\n",
    "model_3 = tf.keras.Sequential([\n",
    "    tf.keras.layers.Dense(1),\n",
    "    tf.keras.layers.Dense(1)\n",
    "])\n",
    "\n",
    "# 2. Compile The Model\n",
    "model_3.compile(loss=tf.keras.losses.mae,\n",
    "              optimizer=tf.keras.optimizers.SGD(),\n",
    "              metrics=[\"mae\"])\n",
    "\n",
    "# 3. Fit The Model\n",
    "history_3 = model_3.fit(X_train, y_train, epochs=500, verbose=0, validation_data=(X_test, y_test))\n",
    "\n",
    "# 4. Evaluate The Model\n",
    "model_3.evaluate(X_test, y_test)"
   ]
  },
  {
   "cell_type": "code",
   "execution_count": 17,
   "id": "b20c2abe-a073-424a-9e48-bb9a053b56da",
   "metadata": {},
   "outputs": [
    {
     "data": {
      "image/png": "[encoded data removed]",
      "text/plain": [
       "<Figure size 432x288 with 1 Axes>"
      ]
     },
     "metadata": {
      "needs_background": "light"
     },
     "output_type": "display_data"
    }
   ],
   "source": [
    "# plot model metrics\n",
    "plot(history_3)"
   ]
  },
  {
   "cell_type": "markdown",
   "id": "4082bf57-85ea-453d-8940-b30ef8bf644a",
   "metadata": {},
   "source": [
    "It looks like that model_3 has improved significantly over model_2, while the extra epochs in training did not hepl a lot since already after the first 100 epochs the model has a consistent loss."
   ]
  },
  {
   "cell_type": "markdown",
   "id": "2ba0ac63-3f5c-4d40-8bb2-161127219e65",
   "metadata": {},
   "source": [
    "After we have found a good model (in our case we can go with model_3), we can make predictions and save the model for future use."
   ]
  },
  {
   "cell_type": "code",
   "execution_count": 18,
   "id": "c49f5c10-a9c5-40cd-be88-e333e1f1d0f8",
   "metadata": {},
   "outputs": [
    {
     "name": "stdout",
     "output_type": "stream",
     "text": [
      "9/9 [==============================] - 0s 374us/step\n"
     ]
    }
   ],
   "source": [
    "# make predictions\n",
    "y_pred = model_3.predict(X_test)"
   ]
  },
  {
   "cell_type": "code",
   "execution_count": null,
   "id": "6c524aad-8f6b-409a-86e3-d8d53fa0a778",
   "metadata": {},
   "outputs": [],
   "source": [
    "# save the mode\n",
    "model_3.save('model_3')"
   ]
  },
  {
   "cell_type": "code",
   "execution_count": null,
   "id": "3690fce3-f4b9-4b42-a9c2-1e4da38879fc",
   "metadata": {},
   "outputs": [],
   "source": [
    "# load a saved model\n",
    "model_3 = tf.keras.models.load_model(\"model_3\")"
   ]
  },
  {
   "cell_type": "markdown",
   "id": "88e9f113-a19b-42cd-b1ba-e9139e25d25e",
   "metadata": {},
   "source": [
    "## Classification"
   ]
  },
  {
   "cell_type": "markdown",
   "id": "50767036-3a35-44db-814f-6531d0b86590",
   "metadata": {},
   "source": [
    "### Binary Classification"
   ]
  },
  {
   "cell_type": "markdown",
   "id": "708f08b8-8214-4137-ab88-9d7287d04b5a",
   "metadata": {},
   "source": [
    "#### Data\n",
    "\n",
    "Let's start again by loading the data, split them up and preprocess them."
   ]
  },
  {
   "cell_type": "code",
   "execution_count": 75,
   "id": "39b0771d",
   "metadata": {},
   "outputs": [
    {
     "data": {
      "text/html": [
       "<div>\n",
       "<style scoped>\n",
       "    .dataframe tbody tr th:only-of-type {\n",
       "        vertical-align: middle;\n",
       "    }\n",
       "\n",
       "    .dataframe tbody tr th {\n",
       "        vertical-align: top;\n",
       "    }\n",
       "\n",
       "    .dataframe thead th {\n",
       "        text-align: right;\n",
       "    }\n",
       "</style>\n",
       "<table border=\"1\" class=\"dataframe\">\n",
       "  <thead>\n",
       "    <tr style=\"text-align: right;\">\n",
       "      <th></th>\n",
       "      <th>mean radius</th>\n",
       "      <th>mean texture</th>\n",
       "      <th>mean perimeter</th>\n",
       "      <th>mean area</th>\n",
       "      <th>mean smoothness</th>\n",
       "      <th>mean compactness</th>\n",
       "      <th>mean concavity</th>\n",
       "      <th>mean concave points</th>\n",
       "      <th>mean symmetry</th>\n",
       "      <th>mean fractal dimension</th>\n",
       "      <th>...</th>\n",
       "      <th>worst texture</th>\n",
       "      <th>worst perimeter</th>\n",
       "      <th>worst area</th>\n",
       "      <th>worst smoothness</th>\n",
       "      <th>worst compactness</th>\n",
       "      <th>worst concavity</th>\n",
       "      <th>worst concave points</th>\n",
       "      <th>worst symmetry</th>\n",
       "      <th>worst fractal dimension</th>\n",
       "      <th>target</th>\n",
       "    </tr>\n",
       "  </thead>\n",
       "  <tbody>\n",
       "    <tr>\n",
       "      <th>0</th>\n",
       "      <td>17.99</td>\n",
       "      <td>10.38</td>\n",
       "      <td>122.80</td>\n",
       "      <td>1001.0</td>\n",
       "      <td>0.11840</td>\n",
       "      <td>0.27760</td>\n",
       "      <td>0.3001</td>\n",
       "      <td>0.14710</td>\n",
       "      <td>0.2419</td>\n",
       "      <td>0.07871</td>\n",
       "      <td>...</td>\n",
       "      <td>17.33</td>\n",
       "      <td>184.60</td>\n",
       "      <td>2019.0</td>\n",
       "      <td>0.1622</td>\n",
       "      <td>0.6656</td>\n",
       "      <td>0.7119</td>\n",
       "      <td>0.2654</td>\n",
       "      <td>0.4601</td>\n",
       "      <td>0.11890</td>\n",
       "      <td>0</td>\n",
       "    </tr>\n",
       "    <tr>\n",
       "      <th>1</th>\n",
       "      <td>20.57</td>\n",
       "      <td>17.77</td>\n",
       "      <td>132.90</td>\n",
       "      <td>1326.0</td>\n",
       "      <td>0.08474</td>\n",
       "      <td>0.07864</td>\n",
       "      <td>0.0869</td>\n",
       "      <td>0.07017</td>\n",
       "      <td>0.1812</td>\n",
       "      <td>0.05667</td>\n",
       "      <td>...</td>\n",
       "      <td>23.41</td>\n",
       "      <td>158.80</td>\n",
       "      <td>1956.0</td>\n",
       "      <td>0.1238</td>\n",
       "      <td>0.1866</td>\n",
       "      <td>0.2416</td>\n",
       "      <td>0.1860</td>\n",
       "      <td>0.2750</td>\n",
       "      <td>0.08902</td>\n",
       "      <td>0</td>\n",
       "    </tr>\n",
       "    <tr>\n",
       "      <th>2</th>\n",
       "      <td>19.69</td>\n",
       "      <td>21.25</td>\n",
       "      <td>130.00</td>\n",
       "      <td>1203.0</td>\n",
       "      <td>0.10960</td>\n",
       "      <td>0.15990</td>\n",
       "      <td>0.1974</td>\n",
       "      <td>0.12790</td>\n",
       "      <td>0.2069</td>\n",
       "      <td>0.05999</td>\n",
       "      <td>...</td>\n",
       "      <td>25.53</td>\n",
       "      <td>152.50</td>\n",
       "      <td>1709.0</td>\n",
       "      <td>0.1444</td>\n",
       "      <td>0.4245</td>\n",
       "      <td>0.4504</td>\n",
       "      <td>0.2430</td>\n",
       "      <td>0.3613</td>\n",
       "      <td>0.08758</td>\n",
       "      <td>0</td>\n",
       "    </tr>\n",
       "    <tr>\n",
       "      <th>3</th>\n",
       "      <td>11.42</td>\n",
       "      <td>20.38</td>\n",
       "      <td>77.58</td>\n",
       "      <td>386.1</td>\n",
       "      <td>0.14250</td>\n",
       "      <td>0.28390</td>\n",
       "      <td>0.2414</td>\n",
       "      <td>0.10520</td>\n",
       "      <td>0.2597</td>\n",
       "      <td>0.09744</td>\n",
       "      <td>...</td>\n",
       "      <td>26.50</td>\n",
       "      <td>98.87</td>\n",
       "      <td>567.7</td>\n",
       "      <td>0.2098</td>\n",
       "      <td>0.8663</td>\n",
       "      <td>0.6869</td>\n",
       "      <td>0.2575</td>\n",
       "      <td>0.6638</td>\n",
       "      <td>0.17300</td>\n",
       "      <td>0</td>\n",
       "    </tr>\n",
       "    <tr>\n",
       "      <th>4</th>\n",
       "      <td>20.29</td>\n",
       "      <td>14.34</td>\n",
       "      <td>135.10</td>\n",
       "      <td>1297.0</td>\n",
       "      <td>0.10030</td>\n",
       "      <td>0.13280</td>\n",
       "      <td>0.1980</td>\n",
       "      <td>0.10430</td>\n",
       "      <td>0.1809</td>\n",
       "      <td>0.05883</td>\n",
       "      <td>...</td>\n",
       "      <td>16.67</td>\n",
       "      <td>152.20</td>\n",
       "      <td>1575.0</td>\n",
       "      <td>0.1374</td>\n",
       "      <td>0.2050</td>\n",
       "      <td>0.4000</td>\n",
       "      <td>0.1625</td>\n",
       "      <td>0.2364</td>\n",
       "      <td>0.07678</td>\n",
       "      <td>0</td>\n",
       "    </tr>\n",
       "  </tbody>\n",
       "</table>\n",
       "<p>5 rows × 31 columns</p>\n",
       "</div>"
      ],
      "text/plain": [
       "   mean radius  mean texture  mean perimeter  mean area  mean smoothness  \\\n",
       "0        17.99         10.38          122.80     1001.0          0.11840   \n",
       "1        20.57         17.77          132.90     1326.0          0.08474   \n",
       "2        19.69         21.25          130.00     1203.0          0.10960   \n",
       "3        11.42         20.38           77.58      386.1          0.14250   \n",
       "4        20.29         14.34          135.10     1297.0          0.10030   \n",
       "\n",
       "   mean compactness  mean concavity  mean concave points  mean symmetry  \\\n",
       "0           0.27760          0.3001              0.14710         0.2419   \n",
       "1           0.07864          0.0869              0.07017         0.1812   \n",
       "2           0.15990          0.1974              0.12790         0.2069   \n",
       "3           0.28390          0.2414              0.10520         0.2597   \n",
       "4           0.13280          0.1980              0.10430         0.1809   \n",
       "\n",
       "   mean fractal dimension  ...  worst texture  worst perimeter  worst area  \\\n",
       "0                 0.07871  ...          17.33           184.60      2019.0   \n",
       "1                 0.05667  ...          23.41           158.80      1956.0   \n",
       "2                 0.05999  ...          25.53           152.50      1709.0   \n",
       "3                 0.09744  ...          26.50            98.87       567.7   \n",
       "4                 0.05883  ...          16.67           152.20      1575.0   \n",
       "\n",
       "   worst smoothness  worst compactness  worst concavity  worst concave points  \\\n",
       "0            0.1622             0.6656           0.7119                0.2654   \n",
       "1            0.1238             0.1866           0.2416                0.1860   \n",
       "2            0.1444             0.4245           0.4504                0.2430   \n",
       "3            0.2098             0.8663           0.6869                0.2575   \n",
       "4            0.1374             0.2050           0.4000                0.1625   \n",
       "\n",
       "   worst symmetry  worst fractal dimension  target  \n",
       "0          0.4601                  0.11890       0  \n",
       "1          0.2750                  0.08902       0  \n",
       "2          0.3613                  0.08758       0  \n",
       "3          0.6638                  0.17300       0  \n",
       "4          0.2364                  0.07678       0  \n",
       "\n",
       "[5 rows x 31 columns]"
      ]
     },
     "execution_count": 75,
     "metadata": {},
     "output_type": "execute_result"
    }
   ],
   "source": [
    "breast_cancer_df = pd.read_csv(\"data/breast_cancer.csv\")\n",
    "breast_cancer_df.head()"
   ]
  },
  {
   "cell_type": "code",
   "execution_count": 76,
   "id": "51ad84fc-a133-4f21-9a84-ee86a9202982",
   "metadata": {},
   "outputs": [
    {
     "data": {
      "text/plain": [
       "1    357\n",
       "0    212\n",
       "Name: target, dtype: int64"
      ]
     },
     "execution_count": 76,
     "metadata": {},
     "output_type": "execute_result"
    }
   ],
   "source": [
    "# check out labels\n",
    "labels = breast_cancer_df.target.value_counts()\n",
    "labels"
   ]
  },
  {
   "cell_type": "code",
   "execution_count": 77,
   "id": "cc87e9ac-46f3-468a-b55d-9144dce8622d",
   "metadata": {},
   "outputs": [
    {
     "data": {
      "text/plain": [
       "0.6274165202108963"
      ]
     },
     "execution_count": 77,
     "metadata": {},
     "output_type": "execute_result"
    }
   ],
   "source": [
    "# most frequent dummy classifier\n",
    "most_frequent_classifier_accuracy = labels[1]/labels.sum()\n",
    "most_frequent_classifier_accuracy"
   ]
  },
  {
   "cell_type": "code",
   "execution_count": 78,
   "id": "d30998c9",
   "metadata": {},
   "outputs": [
    {
     "data": {
      "text/plain": [
       "((455, 30), (114, 30), (455,), (114,))"
      ]
     },
     "execution_count": 78,
     "metadata": {},
     "output_type": "execute_result"
    }
   ],
   "source": [
    "# features and target\n",
    "X = breast_cancer_df.drop(\"target\", axis=1)\n",
    "y = breast_cancer_df.target\n",
    "\n",
    "# split in train and test\n",
    "X_train, X_test, y_train, y_test = train_test_split(X, y, test_size=0.2, random_state=42)\n",
    "\n",
    "X_train.shape, X_test.shape, y_train.shape, y_test.shape"
   ]
  },
  {
   "cell_type": "code",
   "execution_count": 79,
   "id": "1657180d",
   "metadata": {},
   "outputs": [
    {
     "data": {
      "text/plain": [
       "((455, 30), (114, 30), (455,), (114,))"
      ]
     },
     "execution_count": 79,
     "metadata": {},
     "output_type": "execute_result"
    }
   ],
   "source": [
    "#preprocessing data (for deep learning usually normalization)\n",
    "column_transformer = make_column_transformer(\n",
    "    (MinMaxScaler(), breast_cancer_df.drop(\"target\", axis=1).columns)\n",
    ")\n",
    "\n",
    "# fit the X_train data\n",
    "column_transformer.fit(X_train)\n",
    "\n",
    "# transform both X_train and X_test\n",
    "X_train = column_transformer.transform(X_train)\n",
    "X_test = column_transformer.transform(X_test)\n",
    "\n",
    "X_train.shape, X_test.shape, y_train.shape, y_test.shape"
   ]
  },
  {
   "cell_type": "markdown",
   "id": "ba4342ea-25fa-4fd1-8e9c-b8e6bfd32e10",
   "metadata": {},
   "source": [
    "#### Models\n",
    "\n",
    "Now let's go over the 5 fundamental steps once again."
   ]
  },
  {
   "cell_type": "code",
   "execution_count": 80,
   "id": "9c355eaf",
   "metadata": {},
   "outputs": [
    {
     "name": "stdout",
     "output_type": "stream",
     "text": [
      "4/4 [==============================] - 0s 522us/step - loss: 0.4489 - accuracy: 0.9386\n"
     ]
    },
    {
     "data": {
      "text/plain": [
       "[0.44885194301605225, 0.9385964870452881]"
      ]
     },
     "execution_count": 80,
     "metadata": {},
     "output_type": "execute_result"
    }
   ],
   "source": [
    "# 1. Create The Model\n",
    "model_4 = tf.keras.Sequential([\n",
    "    tf.keras.layers.Dense(1, activation=\"sigmoid\")\n",
    "])\n",
    "\n",
    "# 2. Compile The Model\n",
    "model_4.compile(loss=tf.keras.losses.BinaryCrossentropy(),\n",
    "                optimizer=tf.keras.optimizers.SGD(),\n",
    "                metrics=[\"accuracy\"])\n",
    "\n",
    "# 3. Fit The Model\n",
    "history_4 = model_4.fit(X_train, y_train, epochs=100, verbose=0, validation_data=(X_test, y_test))\n",
    "\n",
    "# 4. Evaluate The Model\n",
    "model_4.evaluate(X_test, y_test)"
   ]
  },
  {
   "cell_type": "code",
   "execution_count": 31,
   "id": "88220c23",
   "metadata": {},
   "outputs": [
    {
     "name": "stdout",
     "output_type": "stream",
     "text": [
      "Model: \"sequential_4\"\n",
      "_________________________________________________________________\n",
      " Layer (type)                Output Shape              Param #   \n",
      "=================================================================\n",
      " dense_5 (Dense)             (None, 1)                 31        \n",
      "                                                                 \n",
      "=================================================================\n",
      "Total params: 31\n",
      "Trainable params: 31\n",
      "Non-trainable params: 0\n",
      "_________________________________________________________________\n"
     ]
    }
   ],
   "source": [
    "# summary of the model\n",
    "model_4.summary()"
   ]
  },
  {
   "cell_type": "code",
   "execution_count": 32,
   "id": "69ba8071",
   "metadata": {},
   "outputs": [
    {
     "data": {
      "image/png": "[encoded data removed]",
      "text/plain": [
       "<IPython.core.display.Image object>"
      ]
     },
     "execution_count": 32,
     "metadata": {},
     "output_type": "execute_result"
    }
   ],
   "source": [
    "# architecture of the model\n",
    "plot_model(model_4, show_shapes=True)"
   ]
  },
  {
   "cell_type": "code",
   "execution_count": 33,
   "id": "eb57d763",
   "metadata": {},
   "outputs": [
    {
     "data": {
      "image/png": "[encoded data removed]",
      "text/plain": [
       "<Figure size 432x288 with 1 Axes>"
      ]
     },
     "metadata": {
      "needs_background": "light"
     },
     "output_type": "display_data"
    }
   ],
   "source": [
    "plot(history_4)"
   ]
  },
  {
   "cell_type": "markdown",
   "id": "7e59e82d-a694-4939-b135-151d4f5dbf75",
   "metadata": {},
   "source": [
    "Moving on to fifth and final step **5. Improve The Model**, we will try to make improvements to the model by making small adjustments to the model. "
   ]
  },
  {
   "cell_type": "code",
   "execution_count": 81,
   "id": "8e633933",
   "metadata": {
    "tags": []
   },
   "outputs": [
    {
     "name": "stdout",
     "output_type": "stream",
     "text": [
      "4/4 [==============================] - 0s 471us/step - loss: 0.0614 - accuracy: 0.9737\n"
     ]
    },
    {
     "data": {
      "text/plain": [
       "[0.0613703727722168, 0.9736841917037964]"
      ]
     },
     "execution_count": 81,
     "metadata": {},
     "output_type": "execute_result"
    }
   ],
   "source": [
    "# 1. Create The Model\n",
    "model_5 = tf.keras.Sequential([\n",
    "    tf.keras.layers.Dense(10),\n",
    "    tf.keras.layers.Dense(1, activation=\"sigmoid\")\n",
    "])\n",
    "\n",
    "# 2. Compile The Model\n",
    "model_5.compile(loss=tf.keras.losses.BinaryCrossentropy(),\n",
    "              optimizer=tf.keras.optimizers.Adam(),\n",
    "              metrics=[\"accuracy\"])\n",
    "\n",
    "# 3. Fit The Model\n",
    "history_5 = model_5.fit(X_train, y_train, epochs=500, verbose=0, validation_data=(X_test, y_test))\n",
    "\n",
    "# 4. Evaluate The Model\n",
    "model_5.evaluate(X_test, y_test)"
   ]
  },
  {
   "cell_type": "code",
   "execution_count": 82,
   "id": "4fc2b66c-49db-464b-a61d-8154212cf8db",
   "metadata": {},
   "outputs": [
    {
     "data": {
      "image/png": "[encoded data removed]",
      "text/plain": [
       "<Figure size 432x288 with 1 Axes>"
      ]
     },
     "metadata": {
      "needs_background": "light"
     },
     "output_type": "display_data"
    }
   ],
   "source": [
    "plot(history_5)"
   ]
  },
  {
   "cell_type": "code",
   "execution_count": 36,
   "id": "e0e7aff4",
   "metadata": {
    "tags": []
   },
   "outputs": [
    {
     "name": "stdout",
     "output_type": "stream",
     "text": [
      "4/4 [==============================] - 0s 488us/step - loss: 0.1290 - accuracy: 0.9561\n"
     ]
    },
    {
     "data": {
      "text/plain": [
       "[0.12899737060070038, 0.9561403393745422]"
      ]
     },
     "execution_count": 36,
     "metadata": {},
     "output_type": "execute_result"
    }
   ],
   "source": [
    "# 1. Create The Model\n",
    "model_6 = tf.keras.Sequential([\n",
    "    tf.keras.layers.Dense(10),\n",
    "    tf.keras.layers.Dense(1, activation=\"sigmoid\")\n",
    "])\n",
    "\n",
    "# 2. Compile The Model\n",
    "model_6.compile(loss=tf.keras.losses.BinaryCrossentropy(),\n",
    "              optimizer=tf.keras.optimizers.Adam(learning_rate=0.01),\n",
    "              metrics=[\"accuracy\"])\n",
    "\n",
    "# 3. Fit The Model\n",
    "history_6 = model_6.fit(X_train, y_train, epochs=500, verbose=0, validation_data=(X_test, y_test))\n",
    "\n",
    "# 4. Evaluate The Model\n",
    "model_6.evaluate(X_test, y_test)"
   ]
  },
  {
   "cell_type": "code",
   "execution_count": 37,
   "id": "8de1f0fc-be57-42e3-9c14-af959197ff23",
   "metadata": {},
   "outputs": [
    {
     "data": {
      "image/png": "[encoded data removed]",
      "text/plain": [
       "<Figure size 432x288 with 1 Axes>"
      ]
     },
     "metadata": {
      "needs_background": "light"
     },
     "output_type": "display_data"
    }
   ],
   "source": [
    "plot(history_6)"
   ]
  },
  {
   "cell_type": "markdown",
   "id": "5774247a-2276-458e-845c-2874a58aefc5",
   "metadata": {},
   "source": [
    "Looks like model_5 is the winner."
   ]
  },
  {
   "cell_type": "code",
   "execution_count": 115,
   "id": "14996820-d434-4f41-8d32-50838a211c8c",
   "metadata": {},
   "outputs": [
    {
     "data": {
      "image/png": "[encoded data removed]",
      "text/plain": [
       "<Figure size 720x720 with 2 Axes>"
      ]
     },
     "metadata": {
      "needs_background": "light"
     },
     "output_type": "display_data"
    },
    {
     "name": "stdout",
     "output_type": "stream",
     "text": [
      "Accuracy =  0.974\n",
      "Precision =  0.986\n",
      "Recall =  0.972\n",
      "F1 Score =  0.979\n"
     ]
    }
   ],
   "source": [
    "# confusion matrix for model_5\n",
    "y_pred = model_5.predict(X_test, verbose=0)\n",
    "classification_evaluation(y_test, y_pred)"
   ]
  },
  {
   "cell_type": "markdown",
   "id": "81992086-18ae-44b3-9a1e-be03f97962b5",
   "metadata": {},
   "source": [
    "### Multiclass Classification"
   ]
  },
  {
   "cell_type": "markdown",
   "id": "b3fb469e-c620-4417-8c0b-a119d1ae61a4",
   "metadata": {},
   "source": [
    "#### Data"
   ]
  },
  {
   "cell_type": "code",
   "execution_count": 39,
   "id": "8d1a7216-909a-4bb3-bba9-1beeec01e431",
   "metadata": {},
   "outputs": [
    {
     "data": {
      "text/plain": [
       "((60000, 28, 28), (60000,), (10000, 28, 28), (10000,))"
      ]
     },
     "execution_count": 39,
     "metadata": {},
     "output_type": "execute_result"
    }
   ],
   "source": [
    "# data has already been sorted into training and test sets\n",
    "(X_train, y_train), (X_test, y_test) = fashion_mnist.load_data()\n",
    "\n",
    "X_train.shape, y_train.shape, X_test.shape, y_test.shape"
   ]
  },
  {
   "cell_type": "code",
   "execution_count": 40,
   "id": "68e22a39-5360-4187-9edf-ab69ff31f158",
   "metadata": {},
   "outputs": [
    {
     "data": {
      "image/png": "[encoded data removed]",
      "text/plain": [
       "<Figure size 432x288 with 1 Axes>"
      ]
     },
     "metadata": {
      "needs_background": "light"
     },
     "output_type": "display_data"
    }
   ],
   "source": [
    "# plot a single random example\n",
    "class_names = ['T-shirt/top', 'Trouser', 'Pullover', 'Dress', 'Coat', \n",
    "               'Sandal', 'Shirt', 'Sneaker', 'Bag', 'Ankle boot']\n",
    "\n",
    "random_integer = random.randint(0, X_train.shape[0])\n",
    "\n",
    "plt.imshow(X_train[random_integer], cmap=plt.cm.binary)\n",
    "plt.title(class_names[y_train[random_integer]])\n",
    "plt.show()"
   ]
  },
  {
   "cell_type": "code",
   "execution_count": 41,
   "id": "8549d536-87d5-4d47-a0e3-05b203b8f63d",
   "metadata": {},
   "outputs": [
    {
     "data": {
      "text/plain": [
       "(0, 255)"
      ]
     },
     "execution_count": 41,
     "metadata": {},
     "output_type": "execute_result"
    }
   ],
   "source": [
    "# data min and max\n",
    "X_train.min(), X_train.max()"
   ]
  },
  {
   "cell_type": "code",
   "execution_count": 55,
   "id": "50459fd5-e279-4d55-a284-bfadd3ef40db",
   "metadata": {},
   "outputs": [],
   "source": [
    "# normalization\n",
    "X_train = X_train/X_train.max()\n",
    "X_test = X_test/X_test.max()"
   ]
  },
  {
   "cell_type": "markdown",
   "id": "210c0487-b240-403a-ad9b-f14cb2a1e842",
   "metadata": {},
   "source": [
    "#### Models"
   ]
  },
  {
   "cell_type": "code",
   "execution_count": 64,
   "id": "bca66fe8-6e7d-4090-b970-fc6a31a8744e",
   "metadata": {},
   "outputs": [
    {
     "name": "stdout",
     "output_type": "stream",
     "text": [
      "Epoch 1/10\n",
      "1875/1875 [==============================] - 1s 460us/step - loss: 1.0735 - accuracy: 0.6008 - val_loss: 0.7560 - val_accuracy: 0.7241\n",
      "Epoch 2/10\n",
      "1875/1875 [==============================] - 1s 428us/step - loss: 0.6915 - accuracy: 0.7504 - val_loss: 0.6969 - val_accuracy: 0.7451\n",
      "Epoch 3/10\n",
      "1875/1875 [==============================] - 1s 427us/step - loss: 0.6335 - accuracy: 0.7697 - val_loss: 0.6453 - val_accuracy: 0.7716\n",
      "Epoch 4/10\n",
      "1875/1875 [==============================] - 1s 430us/step - loss: 0.6066 - accuracy: 0.7806 - val_loss: 0.6269 - val_accuracy: 0.7815\n",
      "Epoch 5/10\n",
      "1875/1875 [==============================] - 1s 428us/step - loss: 0.5935 - accuracy: 0.7859 - val_loss: 0.6202 - val_accuracy: 0.7765\n",
      "Epoch 6/10\n",
      "1875/1875 [==============================] - 1s 427us/step - loss: 0.5819 - accuracy: 0.7908 - val_loss: 0.6130 - val_accuracy: 0.7885\n",
      "Epoch 7/10\n",
      "1875/1875 [==============================] - 1s 429us/step - loss: 0.5754 - accuracy: 0.7940 - val_loss: 0.6206 - val_accuracy: 0.7847\n",
      "Epoch 8/10\n",
      "1875/1875 [==============================] - 1s 426us/step - loss: 0.5658 - accuracy: 0.7996 - val_loss: 0.6006 - val_accuracy: 0.7977\n",
      "Epoch 9/10\n",
      "1875/1875 [==============================] - 1s 427us/step - loss: 0.5514 - accuracy: 0.8092 - val_loss: 0.5858 - val_accuracy: 0.8020\n",
      "Epoch 10/10\n",
      "1875/1875 [==============================] - 1s 429us/step - loss: 0.5460 - accuracy: 0.8107 - val_loss: 0.5840 - val_accuracy: 0.8047\n",
      "313/313 [==============================] - 0s 315us/step - loss: 0.5840 - accuracy: 0.8047\n"
     ]
    },
    {
     "data": {
      "text/plain": [
       "[0.5839864015579224, 0.8047000169754028]"
      ]
     },
     "execution_count": 64,
     "metadata": {},
     "output_type": "execute_result"
    }
   ],
   "source": [
    "# create the model\n",
    "model_7 = tf.keras.Sequential([\n",
    "  tf.keras.layers.Flatten(input_shape=(28, 28)), # input layer (we had to reshape 28x28 to 784, the Flatten layer does this for us)\n",
    "  tf.keras.layers.Dense(4, activation=\"relu\"),\n",
    "  tf.keras.layers.Dense(4, activation=\"relu\"),\n",
    "  tf.keras.layers.Dense(10, activation=\"softmax\") # output shape is 10, activation is softmax\n",
    "])\n",
    "\n",
    "# compile the model\n",
    "model_7.compile(loss=tf.keras.losses.SparseCategoricalCrossentropy(),\n",
    "                optimizer=tf.keras.optimizers.Adam(),\n",
    "                metrics=[\"accuracy\"])\n",
    "\n",
    "# fit the model\n",
    "history_7 = model_7.fit(X_train, y_train, epochs=10, validation_data=(X_test, y_test))\n",
    "\n",
    "# evaluate the model\n",
    "model_7.evaluate(X_test, y_test)"
   ]
  },
  {
   "cell_type": "code",
   "execution_count": 57,
   "id": "0be1113d-6da7-49a4-8c86-a8bece742c9a",
   "metadata": {},
   "outputs": [
    {
     "data": {
      "image/png": "[encoded data removed]",
      "text/plain": [
       "<Figure size 432x288 with 1 Axes>"
      ]
     },
     "metadata": {
      "needs_background": "light"
     },
     "output_type": "display_data"
    }
   ],
   "source": [
    "plot(history_7)"
   ]
  },
  {
   "cell_type": "markdown",
   "id": "8e75af75-fb66-4cf4-bd0d-e4f45d4298c2",
   "metadata": {},
   "source": [
    "Finding the best learning rate.\n",
    "\n",
    "To find the ideal learning rate (i.e the learning rate where the loss decreases the most during training) we are going to use the learning rate callback.\n",
    "\n",
    "Callbacks are functions or blocks of code which are executed during a specific instant while training a Deep Learning Model.\n",
    "\n",
    "\n"
   ]
  },
  {
   "cell_type": "code",
   "execution_count": 58,
   "id": "1f7b27da-614d-4c18-accf-23518ef240ad",
   "metadata": {},
   "outputs": [
    {
     "name": "stdout",
     "output_type": "stream",
     "text": [
      "313/313 [==============================] - 0s 308us/step - loss: 2.4571 - accuracy: 0.1000\n"
     ]
    },
    {
     "data": {
      "text/plain": [
       "[2.4570837020874023, 0.10000000149011612]"
      ]
     },
     "execution_count": 58,
     "metadata": {},
     "output_type": "execute_result"
    }
   ],
   "source": [
    "# create the model\n",
    "model_8 = tf.keras.Sequential([\n",
    "  tf.keras.layers.Flatten(input_shape=(28, 28)), # input layer (we had to reshape 28x28 to 784, the Flatten layer does this for us)\n",
    "  tf.keras.layers.Dense(4, activation=\"relu\"),\n",
    "  tf.keras.layers.Dense(4, activation=\"relu\"),\n",
    "  tf.keras.layers.Dense(10, activation=\"softmax\") # output shape is 10, activation is softmax\n",
    "])\n",
    "\n",
    "# compile the model\n",
    "model_8.compile(loss=tf.keras.losses.SparseCategoricalCrossentropy(),\n",
    "                optimizer=tf.keras.optimizers.Adam(),\n",
    "                metrics=[\"accuracy\"])\n",
    "\n",
    "# create a leraning rate callback\n",
    "lr_callback = tf.keras.callbacks.LearningRateScheduler(lambda epoch: 1e-4 * 10**(epoch/20))\n",
    "\n",
    "# fit the model\n",
    "history_8 = model_8.fit(X_train, y_train, epochs=100, verbose=0, validation_data=(X_test, y_test), callbacks=[lr_callback])\n",
    "\n",
    "# evaluate the model\n",
    "model_8.evaluate(X_test, y_test)"
   ]
  },
  {
   "cell_type": "code",
   "execution_count": 59,
   "id": "7f44e978-cf63-4950-b5d7-9a994475839d",
   "metadata": {},
   "outputs": [
    {
     "data": {
      "image/png": "[encoded data removed]",
      "text/plain": [
       "<Figure size 432x288 with 1 Axes>"
      ]
     },
     "metadata": {
      "needs_background": "light"
     },
     "output_type": "display_data"
    }
   ],
   "source": [
    "plot(history_8)"
   ]
  },
  {
   "cell_type": "code",
   "execution_count": 60,
   "id": "50a322c6-6a55-49e7-b65c-2b371556e04e",
   "metadata": {},
   "outputs": [
    {
     "data": {
      "image/png": "[encoded data removed]",
      "text/plain": [
       "<Figure size 432x288 with 1 Axes>"
      ]
     },
     "metadata": {
      "needs_background": "light"
     },
     "output_type": "display_data"
    }
   ],
   "source": [
    "history_8_df = pd.DataFrame(history_8.history)\n",
    "plt.semilogx(history_8_df.lr, history_8_df.loss)\n",
    "plt.show()"
   ]
  },
  {
   "cell_type": "code",
   "execution_count": null,
   "id": "2988f7a7-81db-4379-81b8-5c3f65a30a31",
   "metadata": {},
   "outputs": [],
   "source": []
  }
 ],
 "metadata": {
  "kernelspec": {
   "display_name": "Python 3 (ipykernel)",
   "language": "python",
   "name": "python3"
  },
  "language_info": {
   "codemirror_mode": {
    "name": "ipython",
    "version": 3
   },
   "file_extension": ".py",
   "mimetype": "text/x-python",
   "name": "python",
   "nbconvert_exporter": "python",
   "pygments_lexer": "ipython3",
   "version": "3.10.4"
  },
  "toc-autonumbering": true
 },
 "nbformat": 4,
 "nbformat_minor": 5
}
